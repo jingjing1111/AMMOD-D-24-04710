{
 "cells": [
  {
   "cell_type": "code",
   "execution_count": 26,
   "outputs": [],
   "source": [
    "from math import exp\n",
    "import pandas as pd\n",
    "import numpy as np"
   ],
   "metadata": {
    "collapsed": false,
    "pycharm": {
     "name": "#%%\n"
    }
   }
  },
  {
   "cell_type": "code",
   "execution_count": 27,
   "outputs": [],
   "source": [
    "gamma =0.84697"
   ],
   "metadata": {
    "collapsed": false,
    "pycharm": {
     "name": "#%%\n"
    }
   }
  },
  {
   "cell_type": "code",
   "execution_count": 28,
   "outputs": [
    {
     "data": {
      "text/plain": "array([[ 3.17183149,  3.58265388,  4.06480061],\n       [ 3.58572051,  3.75307967,  4.98606851],\n       [ 4.06002553,  4.00334458,  5.64055044],\n       [ 4.70435864,  4.23290831,  6.58427062],\n       [ 5.24470556,  4.38322184,  7.52824642],\n       [ 5.58501584,  4.98932814,  8.60685072],\n       [ 5.92532552,  5.59543445,  9.68545501],\n       [ 6.01324623,  5.69594003, 10.37427573],\n       [ 6.61325944,  6.56204715, 12.495697  ],\n       [ 7.98908223,  7.43895863, 15.48479039]])"
     },
     "execution_count": 28,
     "metadata": {},
     "output_type": "execute_result"
    }
   ],
   "source": [
    "\n",
    "data = pd.read_excel(\"使用版2012-2023-2个相关因素_2位小数.xlsx\")\n",
    "data = data.iloc[0:, :]  # 这次去取全部数据i=1？\n",
    "n = data.shape[0]\n",
    "train_n = n - 2\n",
    "X0 = data.iloc[:train_n, 1:].to_numpy()\n",
    "X0"
   ],
   "metadata": {
    "collapsed": false,
    "pycharm": {
     "name": "#%%\n"
    }
   }
  },
  {
   "cell_type": "code",
   "execution_count": 29,
   "outputs": [],
   "source": [
    "# 一阶累加生成\n",
    "X1= np.cumsum(X0, 0)\n",
    "y1 = X1[:, 0] ** (1 - gamma)\n",
    "\n",
    "Zy = (y1[1:] + y1[:-1]) / 2\n",
    "Z2 = (X1[1:, 1] + X1[:-1, 1]) / 2\n",
    "Z3 = (X1[1:, 2] + X1[:-1, 2]) / 2\n",
    "# 根据一阶累加生成的第二三列相乘得到序列 pq， 进而得到 Z23\n",
    "pq = X1[:, 1] * X1[:, 2]\n",
    "Z23 = (pq[1:] + pq[:-1]) / 2"
   ],
   "metadata": {
    "collapsed": false,
    "pycharm": {
     "name": "#%%\n"
    }
   }
  },
  {
   "cell_type": "code",
   "execution_count": 30,
   "outputs": [
    {
     "name": "stdout",
     "output_type": "stream",
     "text": [
      "1.95209353100398 -0.1378146312701266 0.10218572212642196 -0.0003320202993943994 3.512057265760637\n"
     ]
    }
   ],
   "source": [
    "B = np.array([-Zy, Z2, Z3, Z23]).T\n",
    "ones_column = np.ones((B.shape[0], 1))\n",
    "B = (1-gamma)*np.hstack((B, ones_column))\n",
    "A = y1[1:] - y1[:-1]\n",
    "    # 共五个值，分别为a, b2, b3, b23, b1\n",
    "\n",
    "hat_a = np.dot(np.dot(np.linalg.inv(np.dot(B.T, B)), B.T), A)\n",
    "a, b2, b3, b23, b1 = hat_a\n",
    "print(a, b2, b3, b23, b1 )"
   ],
   "metadata": {
    "collapsed": false,
    "pycharm": {
     "name": "#%%\n"
    }
   }
  },
  {
   "cell_type": "code",
   "execution_count": 31,
   "outputs": [
    {
     "data": {
      "text/plain": "array([[ 3.17183149,  3.58265388,  4.06480061],\n       [ 3.58572051,  3.75307967,  4.98606851],\n       [ 4.06002553,  4.00334458,  5.64055044],\n       [ 4.70435864,  4.23290831,  6.58427062],\n       [ 5.24470556,  4.38322184,  7.52824642],\n       [ 5.58501584,  4.98932814,  8.60685072],\n       [ 5.92532552,  5.59543445,  9.68545501],\n       [ 6.01324623,  5.69594003, 10.37427573],\n       [ 6.61325944,  6.56204715, 12.495697  ],\n       [ 7.98908223,  7.43895863, 15.48479039],\n       [ 8.95623639,  8.38116319, 18.0884032 ],\n       [ 9.19408275,  9.45294856, 19.79115704]])"
     },
     "execution_count": 31,
     "metadata": {},
     "output_type": "execute_result"
    }
   ],
   "source": [
    "# 这里重新获取下原数据，以实现所有数据的预测\n",
    "X0 = data.iloc[:, 1:].to_numpy()\n",
    "X1= np.cumsum(X0, 0)\n",
    "# 对第一列一阶累加生成求 1-gamma 次幂\n",
    "y1 = X1[:, 0] ** (1 - gamma)\n",
    "X0\n"
   ],
   "metadata": {
    "collapsed": false,
    "pycharm": {
     "name": "#%%\n"
    }
   }
  },
  {
   "cell_type": "code",
   "execution_count": 32,
   "outputs": [
    {
     "name": "stdout",
     "output_type": "stream",
     "text": [
      "[3.53074815 4.27330189 4.59863398 5.03524797 5.62918893 5.96575895\n",
      " 6.18042467 6.60904409 7.89728317 9.82455401 9.05089324]\n"
     ]
    }
   ],
   "source": [
    "  # 根据 y1 求 Zy，再分别根据一阶累加生成的第二三列生成Z2、Z3\n",
    "Zy = (y1[1:] + y1[:-1]) / 2\n",
    "Z2 = (X1[1:, 1] + X1[:-1, 1]) / 2\n",
    "Z3 = (X1[1:, 2] + X1[:-1, 2]) / 2\n",
    "\n",
    "# 根据一阶累加生成的第二三列相乘得到序列 pq， 进而得到 Z23\n",
    "pq = X1[:, 1] * X1[:, 2]\n",
    "Z23 = (pq[1:] + pq[:-1]) / 2\n",
    "\n",
    "hat_y1 = [y1[0]]\n",
    "for i in range(n-1):\n",
    "    hat_y1.append(\n",
    "           (1 - gamma) / (1 + 0.5 * a * (1 - gamma)) * (b2 * Z2[i] + b3 * Z3[i]) +\n",
    "           (1 - 0.5 * a * (1 - gamma)) / (1 + 0.5 * a * (1 - gamma)) * hat_y1[-1] +\n",
    "           (1 - gamma) * b1 / (1 + 0.5 * a * (1 - gamma)) +\n",
    "           (1 - gamma) / (1 + 0.5 * a * (1 - gamma)) * (b23 * Z23[i])\n",
    "    )\n",
    "\n",
    "hat_y1 = np.array(hat_y1)\n",
    "hat_x1 = np.exp(np.log(hat_y1) / (1 - gamma))\n",
    "hat_x0 = np.diff(hat_x1)\n",
    "print(hat_x0)"
   ],
   "metadata": {
    "collapsed": false,
    "pycharm": {
     "name": "#%%\n"
    }
   }
  },
  {
   "cell_type": "code",
   "execution_count": 33,
   "outputs": [
    {
     "name": "stdout",
     "output_type": "stream",
     "text": [
      "1     0.015331\n",
      "2     0.052531\n",
      "3     0.022474\n",
      "4     0.039937\n",
      "5     0.007909\n",
      "6     0.006824\n",
      "7     0.027802\n",
      "8     0.000637\n",
      "9     0.011491\n",
      "10    0.096951\n",
      "11    0.015574\n",
      "Name: 主营业务收入（亿元）, dtype: float64\n",
      "0.027041855434919403\n"
     ]
    }
   ],
   "source": [
    "original_x1 = data.iloc[1:, 1]\n",
    "APE = np.abs(hat_x0 - original_x1) / original_x1\n",
    "MAPE=np.mean(APE)\n",
    "print(APE)\n",
    "print(MAPE)"
   ],
   "metadata": {
    "collapsed": false,
    "pycharm": {
     "name": "#%%\n"
    }
   }
  },
  {
   "cell_type": "code",
   "execution_count": 34,
   "outputs": [],
   "source": [
    "pd.DataFrame(hat_x0).to_excel('IENGBM_hatx0.xlsx')\n",
    "pd.DataFrame(APE).to_excel('IENGBM_APE.xlsx')"
   ],
   "metadata": {
    "collapsed": false,
    "pycharm": {
     "name": "#%%\n"
    }
   }
  },
  {
   "cell_type": "code",
   "execution_count": null,
   "outputs": [],
   "source": [],
   "metadata": {
    "collapsed": false,
    "pycharm": {
     "name": "#%%\n"
    }
   }
  }
 ],
 "metadata": {
  "kernelspec": {
   "display_name": "Python 3",
   "language": "python",
   "name": "python3"
  },
  "language_info": {
   "codemirror_mode": {
    "name": "ipython",
    "version": 2
   },
   "file_extension": ".py",
   "mimetype": "text/x-python",
   "name": "python",
   "nbconvert_exporter": "python",
   "pygments_lexer": "ipython2",
   "version": "2.7.6"
  }
 },
 "nbformat": 4,
 "nbformat_minor": 0
}