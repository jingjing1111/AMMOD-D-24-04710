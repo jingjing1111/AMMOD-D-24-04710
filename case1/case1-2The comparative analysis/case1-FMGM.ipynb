{
 "cells": [
  {
   "cell_type": "code",
   "execution_count": 1,
   "outputs": [],
   "source": [
    "from math import exp\n",
    "import pandas as pd\n",
    "import numpy as np\n",
    "from scipy.special import gamma as GAMMA"
   ],
   "metadata": {
    "collapsed": false,
    "pycharm": {
     "name": "#%%\n"
    }
   }
  },
  {
   "cell_type": "code",
   "execution_count": 2,
   "outputs": [],
   "source": [
    "\n",
    "zeta, tau, gamma =0.00996293, 0.19959996, 4.62105268\n",
    "\n"
   ],
   "metadata": {
    "collapsed": false,
    "pycharm": {
     "name": "#%%\n"
    }
   }
  },
  {
   "cell_type": "code",
   "execution_count": 3,
   "outputs": [],
   "source": [
    "def get_fractional_series(X0):\n",
    "    \"\"\"\n",
    "    :param X0: 待计算分数阶的序列\n",
    "    :return: 分数阶序列\n",
    "    \"\"\"\n",
    "    len_x0 = len(X0)\n",
    "\n",
    "    # 初始化数组\n",
    "    xishu = np.zeros((len_x0, len_x0))\n",
    "    Xr = np.zeros(len_x0)\n",
    "\n",
    "    for k in range(len_x0):\n",
    "        tmp = 0\n",
    "        for i in range(k + 1):\n",
    "            xishu[k, i] = GAMMA(zeta + k - i) / (GAMMA(k - i + 1) * GAMMA(zeta))\n",
    "            tmp += xishu[k, i] * X0[i]\n",
    "        Xr[k] = tmp\n",
    "\n",
    "    return Xr"
   ],
   "metadata": {
    "collapsed": false,
    "pycharm": {
     "name": "#%%\n"
    }
   }
  },
  {
   "cell_type": "code",
   "execution_count": 4,
   "outputs": [],
   "source": [
    "data = pd.read_excel(\"使用版2012-2023-2个相关因素_2位小数.xlsx\")\n",
    "n = data.shape[0]\n",
    "train_n = n-2"
   ],
   "metadata": {
    "collapsed": false,
    "pycharm": {
     "name": "#%%\n"
    }
   }
  },
  {
   "cell_type": "code",
   "execution_count": 5,
   "outputs": [],
   "source": [
    "# 第一列是年份，故先舍弃\n",
    "X0 = data.iloc[:train_n, 1:].to_numpy()\n",
    "\n",
    "X1 = np.array([get_fractional_series(X0[:,0]), get_fractional_series(X0[:,1]), get_fractional_series(X0[:,2])]).T\n",
    "y1 = X1[:, 0] ** (1 - gamma)\n",
    "\n",
    "Zy = (y1[1:] + y1[:-1]) / 2\n",
    "M2 = (X1[1:, 1] + X1[:-1, 1]) / 2\n",
    "M3 = (X1[1:, 2] + X1[:-1, 2]) / 2"
   ],
   "metadata": {
    "collapsed": false,
    "pycharm": {
     "name": "#%%\n"
    }
   }
  },
  {
   "cell_type": "code",
   "execution_count": 6,
   "outputs": [
    {
     "data": {
      "text/plain": "(-0.1490709727815055,\n -0.00023690436345393098,\n 9.102593308975537e-05,\n 2.3006045407652305e-05,\n 0.0002177034461270037)"
     },
     "execution_count": 6,
     "metadata": {},
     "output_type": "execute_result"
    }
   ],
   "source": [
    "# 构建 B\n",
    "TAU = (np.exp(tau) - 1) / tau * np.exp(tau * (np.arange(1, train_n)))\n",
    "ONE = np.ones(train_n - 1)\n",
    "B = (1 - gamma) * np.array([-Zy, M2, M3, TAU, ONE]).T\n",
    "\n",
    "# 构建 Y\n",
    "Y = np.diff(y1)\n",
    "\n",
    "# 最小二乘法\n",
    "a, b2, b3, h1, h2 = np.dot(np.dot(np.linalg.inv(np.dot(B.T, B)), B.T), Y)\n",
    "a, b2, b3, h1, h2"
   ],
   "metadata": {
    "collapsed": false,
    "pycharm": {
     "name": "#%%\n"
    }
   }
  },
  {
   "cell_type": "code",
   "execution_count": 7,
   "outputs": [
    {
     "data": {
      "text/plain": "(-2.851454015777545,\n 0.5749309760263112,\n -7.260585061631792e-05,\n -0.0006207713657074551)"
     },
     "execution_count": 7,
     "metadata": {},
     "output_type": "execute_result"
    }
   ],
   "source": [
    "# 求 mu\n",
    "mu1 = (1-gamma)/(1+0.5*a*(1-gamma))\n",
    "mu2 = (1-0.5*a*(1-gamma))/(1+0.5*a*(1-gamma))\n",
    "mu3 = (h1*(1-gamma)*(exp(tau)-1))/(1+0.5*a*(1-gamma))/tau\n",
    "mu4 = (h2*(1-gamma))/(1+0.5*a*(1-gamma))\n",
    "mu1,mu2,mu3,mu4"
   ],
   "metadata": {
    "collapsed": false,
    "pycharm": {
     "name": "#%%\n"
    }
   }
  },
  {
   "cell_type": "code",
   "execution_count": 8,
   "outputs": [
    {
     "name": "stdout",
     "output_type": "stream",
     "text": [
      "[0.015301348041554258, 0.00935856451034354, 0.005930651728580612, 0.003854351820081231, 0.002495383827563398, 0.0018149376098969805, 0.0015198973904085513, 0.0011988707689730225, 0.0009966213860334772, 0.0006335132962105183, 0.00030570133217303394, 0.0003024249514731193]\n"
     ]
    }
   ],
   "source": [
    "# 这里重新获取下原数据，以实现所有数据的预测\n",
    "# 第一列是年份，故先舍弃\n",
    "X0 = data.iloc[:, 1:].to_numpy()\n",
    "\n",
    "X1 = np.array([get_fractional_series(X0[:,0]), get_fractional_series(X0[:,1]), get_fractional_series(X0[:,2])]).T\n",
    "\n",
    "# 求 hat y1(1为上标的那个haty^1)\n",
    "hat_y1 = [y1[0]]\n",
    "for m in range(2, n + 1):\n",
    "    hat_ym = 0\n",
    "    hat_ym += mu2 ** (m - 1) * y1[0]\n",
    "    for v in range(1, m):\n",
    "        hat_ym += mu2 ** (v - 1) * mu1 * (b2 * X1[m - v, 1] + b3 * X1[m - v, 2])\n",
    "    for w in range(0, m - 1):\n",
    "        hat_ym += mu2 ** w * (mu4 + mu3 * exp(tau * (m - w - 2)))\n",
    "    hat_y1.append(hat_ym)\n",
    "print(hat_y1)"
   ],
   "metadata": {
    "collapsed": false,
    "pycharm": {
     "name": "#%%\n"
    }
   }
  },
  {
   "cell_type": "code",
   "execution_count": 10,
   "outputs": [
    {
     "name": "stdout",
     "output_type": "stream",
     "text": [
      "[3.17183149 3.63309297 4.12084464 4.64162876 5.23375998 5.71479153\n",
      " 6.00175172 6.408175   6.74363824 7.6425106  9.3460927  9.37394599]\n",
      "[3.6014922305258055, 4.069005441561103, 4.5722785713507195, 5.147550058115695, 5.61120025535268, 5.881503016434282, 6.273378533378868, 6.594057971716738, 7.478813486945153, 9.162970442667092, 9.160769318869795]\n"
     ]
    }
   ],
   "source": [
    "hat_x1 = np.array(hat_y1) ** (1 / (1 - gamma))\n",
    "print(hat_x1)\n",
    "hat_x0 = []\n",
    "for k in range(2, n + 1):\n",
    "    hat_x0_m = 0\n",
    "    for j in range(0, k):\n",
    "        hat_x0_m += (-1) ** j * GAMMA(zeta + 1) / (GAMMA(j + 1) * GAMMA(zeta - j + 1)) * hat_x1[k - j - 1]\n",
    "    hat_x0.append(hat_x0_m)\n",
    "print(hat_x0)"
   ],
   "metadata": {
    "collapsed": false,
    "pycharm": {
     "name": "#%%\n"
    }
   }
  },
  {
   "cell_type": "code",
   "execution_count": 11,
   "outputs": [
    {
     "name": "stdout",
     "output_type": "stream",
     "text": [
      "1     0.004398\n",
      "2     0.002212\n",
      "3     0.028076\n",
      "4     0.018524\n",
      "5     0.004688\n",
      "6     0.007396\n",
      "7     0.043260\n",
      "8     0.002903\n",
      "9     0.063871\n",
      "10    0.023083\n",
      "11    0.003623\n",
      "Name: 主营业务收入（亿元）, dtype: float64\n",
      "0.018366832848799215\n"
     ]
    }
   ],
   "source": [
    "original_x1 = data.iloc[1:, 1]\n",
    "APE = np.abs(hat_x0 - original_x1) / original_x1\n",
    "MAPE=np.mean(APE)\n",
    "print(APE)\n",
    "print(MAPE)"
   ],
   "metadata": {
    "collapsed": false,
    "pycharm": {
     "name": "#%%\n"
    }
   }
  },
  {
   "cell_type": "code",
   "execution_count": 24,
   "outputs": [],
   "source": [
    "pd.DataFrame(hat_x0).to_excel('FNGBM_hatx0_case1-7.xlsx')\n",
    "pd.DataFrame(APE).to_excel('FNGBM_APE-7.xlsx')"
   ],
   "metadata": {
    "collapsed": false,
    "pycharm": {
     "name": "#%%\n"
    }
   }
  },
  {
   "cell_type": "code",
   "execution_count": 112,
   "outputs": [
    {
     "data": {
      "text/plain": "4      28465.4700\n5      35984.4000\n6      43206.3000\n7      52799.1000\n8      59688.8000\n9      67584.2000\n10     78309.9325\n11     87304.6806\n12     92969.5665\n13     98634.4524\n14    100098.0000\n15    110085.9746\n16    132988.2635\n17    149087.7480\nName: 主营业务收入（亿元）, dtype: float64"
     },
     "execution_count": 112,
     "metadata": {},
     "output_type": "execute_result"
    }
   ],
   "source": [
    "original_x1"
   ],
   "metadata": {
    "collapsed": false,
    "pycharm": {
     "name": "#%%\n"
    }
   }
  },
  {
   "cell_type": "code",
   "execution_count": null,
   "outputs": [],
   "source": [],
   "metadata": {
    "collapsed": false,
    "pycharm": {
     "name": "#%%\n"
    }
   }
  }
 ],
 "metadata": {
  "kernelspec": {
   "display_name": "Python 3",
   "language": "python",
   "name": "python3"
  },
  "language_info": {
   "codemirror_mode": {
    "name": "ipython",
    "version": 2
   },
   "file_extension": ".py",
   "mimetype": "text/x-python",
   "name": "python",
   "nbconvert_exporter": "python",
   "pygments_lexer": "ipython2",
   "version": "2.7.6"
  }
 },
 "nbformat": 4,
 "nbformat_minor": 0
}