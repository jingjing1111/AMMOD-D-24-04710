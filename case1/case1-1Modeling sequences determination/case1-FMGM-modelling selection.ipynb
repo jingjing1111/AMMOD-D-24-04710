{
 "cells": [
  {
   "cell_type": "code",
   "execution_count": 194,
   "outputs": [],
   "source": [
    "from math import exp\n",
    "import pandas as pd\n",
    "import numpy as np\n",
    "from scipy.special import gamma as GAMMA"
   ],
   "metadata": {
    "collapsed": false,
    "pycharm": {
     "name": "#%%\n"
    }
   }
  },
  {
   "cell_type": "code",
   "execution_count": 195,
   "outputs": [],
   "source": [
    "#zeta, tau, gamma = 0.35563196, -0.53661156,  1.53815421\n",
    "zeta, tau, gamma =0.69538854, -0.62408302, -0.08214939"
   ],
   "metadata": {
    "collapsed": false,
    "pycharm": {
     "name": "#%%\n"
    }
   }
  },
  {
   "cell_type": "code",
   "execution_count": 196,
   "outputs": [],
   "source": [
    "def get_fractional_series(X0):\n",
    "    \"\"\"\n",
    "    :param X0: 待计算分数阶的序列\n",
    "    :return: 分数阶序列\n",
    "    \"\"\"\n",
    "    len_x0 = len(X0)\n",
    "\n",
    "    # 初始化数组\n",
    "    xishu = np.zeros((len_x0, len_x0))\n",
    "    Xr = np.zeros(len_x0)\n",
    "\n",
    "    for k in range(len_x0):\n",
    "        tmp = 0\n",
    "        for i in range(k + 1):\n",
    "            xishu[k, i] = GAMMA(zeta + k - i) / (GAMMA(k - i + 1) * GAMMA(zeta))\n",
    "            tmp += xishu[k, i] * X0[i]\n",
    "        Xr[k] = tmp\n",
    "\n",
    "    return Xr"
   ],
   "metadata": {
    "collapsed": false,
    "pycharm": {
     "name": "#%%\n"
    }
   }
  },
  {
   "cell_type": "code",
   "execution_count": 197,
   "outputs": [],
   "source": [
    "data = pd.read_excel(\"使用版2005-2023-2个相关因素_2位小数.xlsx\")\n",
    "data = data.iloc[11:, :] # i=3\n",
    "n = data.shape[0]\n",
    "train_n = n-2"
   ],
   "metadata": {
    "collapsed": false,
    "pycharm": {
     "name": "#%%\n"
    }
   }
  },
  {
   "cell_type": "code",
   "execution_count": 198,
   "outputs": [],
   "source": [
    "# 第一列是年份，故先舍弃\n",
    "X0 = data.iloc[:train_n, 1:].to_numpy()\n",
    "\n",
    "X1 = np.array([get_fractional_series(X0[:,0]), get_fractional_series(X0[:,1]), get_fractional_series(X0[:,2])]).T\n",
    "y1 = X1[:, 0] ** (1 - gamma)\n",
    "\n",
    "Zy = (y1[1:] + y1[:-1]) / 2\n",
    "M2 = (X1[1:, 1] + X1[:-1, 1]) / 2\n",
    "M3 = (X1[1:, 2] + X1[:-1, 2]) / 2"
   ],
   "metadata": {
    "collapsed": false,
    "pycharm": {
     "name": "#%%\n"
    }
   }
  },
  {
   "cell_type": "code",
   "execution_count": 199,
   "outputs": [
    {
     "data": {
      "text/plain": "(2.335350771783407,\n -0.8119895152819936,\n 420.69153137870575,\n -428108.2651795752,\n 506637.39270007284)"
     },
     "execution_count": 199,
     "metadata": {},
     "output_type": "execute_result"
    }
   ],
   "source": [
    "# 构建 B\n",
    "TAU = (np.exp(tau) - 1) / tau * np.exp(tau * (np.arange(1, train_n)))\n",
    "ONE = np.ones(train_n - 1)\n",
    "B = (1 - gamma) * np.array([-Zy, M2, M3, TAU, ONE]).T\n",
    "\n",
    "# 构建 Y\n",
    "Y = np.diff(y1)\n",
    "\n",
    "# 最小二乘法\n",
    "a, b2, b3, h1, h2 = np.dot(np.dot(np.linalg.inv(np.dot(B.T, B)), B.T), Y)\n",
    "a, b2, b3, h1, h2"
   ],
   "metadata": {
    "collapsed": false,
    "pycharm": {
     "name": "#%%\n"
    }
   }
  },
  {
   "cell_type": "code",
   "execution_count": 200,
   "outputs": [
    {
     "data": {
      "text/plain": "(0.4780658107952783,\n -0.11645136020401342,\n -152246.92389441698,\n 242206.0159203662)"
     },
     "execution_count": 200,
     "metadata": {},
     "output_type": "execute_result"
    }
   ],
   "source": [
    "# 求 mu\n",
    "mu1 = (1-gamma)/(1+0.5*a*(1-gamma))\n",
    "mu2 = (1-0.5*a*(1-gamma))/(1+0.5*a*(1-gamma))\n",
    "mu3 = (h1*(1-gamma)*(exp(tau)-1))/(1+0.5*a*(1-gamma))/tau\n",
    "mu4 = (h2*(1-gamma))/(1+0.5*a*(1-gamma))\n",
    "mu1,mu2,mu3,mu4"
   ],
   "metadata": {
    "collapsed": false,
    "pycharm": {
     "name": "#%%\n"
    }
   }
  },
  {
   "cell_type": "code",
   "execution_count": 201,
   "outputs": [
    {
     "name": "stdout",
     "output_type": "stream",
     "text": [
      "[222300.6555879836, 420816.52735969034, 630885.9155247337, 812298.8795289613, 1026329.2632339494, 1303430.2552394054, 1607683.9882711377, 1898096.352780945]\n"
     ]
    }
   ],
   "source": [
    "\n",
    "# 这里重新获取下原数据，以实现所有数据的预测\n",
    "# 第一列是年份，故先舍弃\n",
    "X0 = data.iloc[:, 1:].to_numpy()\n",
    "\n",
    "X1 = np.array([get_fractional_series(X0[:,0]), get_fractional_series(X0[:,1]), get_fractional_series(X0[:,2])]).T\n",
    "\n",
    "# 求 hat y1(1为上标的那个haty^1)\n",
    "hat_y1 = [y1[0]]\n",
    "for m in range(2, n + 1):\n",
    "    hat_ym = 0\n",
    "    hat_ym += mu2 ** (m - 1) * y1[0]\n",
    "    for v in range(1, m):\n",
    "        hat_ym += mu2 ** (v - 1) * mu1 * (b2 * X1[m - v, 1] + b3 * X1[m - v, 2])\n",
    "    for w in range(0, m - 1):\n",
    "        hat_ym += mu2 ** w * (mu4 + mu3 * exp(tau * (m - w - 2)))\n",
    "    hat_y1.append(hat_ym)\n",
    "print(hat_y1)"
   ],
   "metadata": {
    "collapsed": false,
    "pycharm": {
     "name": "#%%\n"
    }
   }
  },
  {
   "cell_type": "code",
   "execution_count": 202,
   "outputs": [
    {
     "name": "stdout",
     "output_type": "stream",
     "text": [
      "[ 87304.68       157452.68807087 228906.52986996 289128.29369623\n",
      " 358881.3461068  447581.47330229 543335.80104089 633448.36165294]\n",
      "[96742.01411050715, 110169.15147694996, 109252.17437777638, 124012.29179912913, 151145.08401259582, 170832.06834842323, 177184.7341926856]\n"
     ]
    }
   ],
   "source": [
    "\n",
    "\n",
    "hat_x1 = np.array(hat_y1) ** (1 / (1 - gamma))\n",
    "print(hat_x1)\n",
    "hat_x0 = []\n",
    "for k in range(2, n + 1):\n",
    "    hat_x0_m = 0\n",
    "    for j in range(0, k):\n",
    "        hat_x0_m += (-1) ** j * GAMMA(zeta + 1) / (GAMMA(j + 1) * GAMMA(zeta - j + 1)) * hat_x1[k - j - 1]\n",
    "    hat_x0.append(hat_x0_m)\n",
    "print(hat_x0)"
   ],
   "metadata": {
    "collapsed": false,
    "pycharm": {
     "name": "#%%\n"
    }
   }
  },
  {
   "cell_type": "code",
   "execution_count": 203,
   "outputs": [
    {
     "name": "stdout",
     "output_type": "stream",
     "text": [
      "12    0.040577\n",
      "13    0.116944\n",
      "14    0.091452\n",
      "15    0.126504\n",
      "16    0.136530\n",
      "17    0.145849\n",
      "18    0.157715\n",
      "Name: 主营业务收入（亿元）, dtype: float64\n",
      "0.11651006945980294\n"
     ]
    }
   ],
   "source": [
    "original_x1 = data.iloc[1:, 1]\n",
    "APE = np.abs(hat_x0 - original_x1) / original_x1\n",
    "MAPE=np.mean(APE)\n",
    "print(APE)\n",
    "print(MAPE)"
   ],
   "metadata": {
    "collapsed": false,
    "pycharm": {
     "name": "#%%\n"
    }
   }
  },
  {
   "cell_type": "code",
   "execution_count": 204,
   "outputs": [],
   "source": [
    "pd.DataFrame(hat_x0).to_excel('FNGBM_hatx0_case1-11.xlsx')\n",
    "pd.DataFrame(APE).to_excel('FNGBM_APE-case1-11.xlsx')"
   ],
   "metadata": {
    "collapsed": false,
    "pycharm": {
     "name": "#%%\n"
    }
   }
  },
  {
   "cell_type": "code",
   "execution_count": 50,
   "outputs": [],
   "source": [],
   "metadata": {
    "collapsed": false,
    "pycharm": {
     "name": "#%%\n"
    }
   }
  },
  {
   "cell_type": "code",
   "execution_count": null,
   "outputs": [],
   "source": [],
   "metadata": {
    "collapsed": false,
    "pycharm": {
     "name": "#%%\n"
    }
   }
  }
 ],
 "metadata": {
  "kernelspec": {
   "display_name": "Python 3",
   "language": "python",
   "name": "python3"
  },
  "language_info": {
   "codemirror_mode": {
    "name": "ipython",
    "version": 2
   },
   "file_extension": ".py",
   "mimetype": "text/x-python",
   "name": "python",
   "nbconvert_exporter": "python",
   "pygments_lexer": "ipython2",
   "version": "2.7.6"
  }
 },
 "nbformat": 4,
 "nbformat_minor": 0
}