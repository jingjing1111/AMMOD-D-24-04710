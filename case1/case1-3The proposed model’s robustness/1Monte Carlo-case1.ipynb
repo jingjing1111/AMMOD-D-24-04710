{
 "cells": [
  {
   "cell_type": "code",
   "execution_count": 1,
   "outputs": [],
   "source": [
    "import random\n",
    "import threading\n",
    "\n",
    "from sko.PSO import PSO\n",
    "from math import exp\n",
    "\n",
    "import pandas as pd\n",
    "import numpy as np\n",
    "from scipy.special import gamma as GAMMA"
   ],
   "metadata": {
    "collapsed": false,
    "pycharm": {
     "name": "#%%\n"
    }
   }
  },
  {
   "cell_type": "code",
   "execution_count": 2,
   "outputs": [],
   "source": [
    "def get_fractional_series(X0, zeta):\n",
    "    \"\"\"\n",
    "    计算序列的分数阶\n",
    "    :param X0: 待计算分数阶的序列\n",
    "    :param zeta: zeta\n",
    "    :return: 分数阶序列\n",
    "    \"\"\"\n",
    "    len_x0 = len(X0)\n",
    "\n",
    "    # 初始化数组\n",
    "    xishu = np.zeros((len_x0, len_x0))\n",
    "    Xr = np.zeros(len_x0)\n",
    "\n",
    "    for k in range(len_x0):\n",
    "        tmp = 0\n",
    "        for i in range(k + 1):\n",
    "            xishu[k, i] = GAMMA(zeta + k - i) / (GAMMA(k - i + 1) * GAMMA(zeta))\n",
    "            tmp += xishu[k, i] * X0[i]\n",
    "        Xr[k] = tmp\n",
    "\n",
    "    return Xr\n",
    "\n",
    "\n",
    "def func(XX):\n",
    "    zeta, tau, gamma = XX\n",
    "\n",
    "    # 第一列是年份，故先舍弃\n",
    "    X0 = data.iloc[:train_n, 1:].to_numpy()\n",
    "\n",
    "    X1 = np.array([get_fractional_series(X0[:, 0], zeta),\n",
    "                   get_fractional_series(X0[:, 1], zeta),\n",
    "                   get_fractional_series(X0[:, 2], zeta)]).T\n",
    "\n",
    "    y1 = X1[:, 0] ** (1 - gamma)\n",
    "\n",
    "    Zy = (y1[1:] + y1[:-1]) / 2\n",
    "    M2 = (X1[1:, 1] + X1[:-1, 1]) / 2\n",
    "    M3 = (X1[1:, 2] + X1[:-1, 2]) / 2\n",
    "\n",
    "    # 构建 B\n",
    "    TAU = (np.exp(tau) - 1) / tau * np.exp(tau * (np.arange(1, train_n)))\n",
    "    ONE = np.ones(train_n - 1)\n",
    "    B = (1 - gamma) * np.array([-Zy, M2, M3, TAU, ONE]).T\n",
    "\n",
    "    # 构建 Y\n",
    "    Y = np.diff(y1)\n",
    "\n",
    "    # 最小二乘法\n",
    "    # 最小二乘法\n",
    "    try:\n",
    "        a, b2, b3, h1, h2 = np.dot(np.dot(np.linalg.inv(np.dot(B.T, B)), B.T), Y)\n",
    "    except:\n",
    "        return 1e9 # 有时会出现几万的mape，如果异常则返回1亿，不会对训练造成冲突\n",
    "\n",
    "    L2 = 0.001 * (a ** 2 + b2 ** 2 + b3 ** 2)\n",
    "    # 求 mu\n",
    "    mu1 = (1 - gamma) / (1 + 0.5 * a * (1 - gamma))\n",
    "    mu2 = (1 - 0.5 * a * (1 - gamma)) / (1 + 0.5 * a * (1 - gamma))\n",
    "    mu3 = (h1 * (1 - gamma) * (exp(tau) - 1)) / (1 + 0.5 * a * (1 - gamma)) / tau\n",
    "    mu4 = (h2 * (1 - gamma)) / (1 + 0.5 * a * (1 - gamma))\n",
    "\n",
    "    # 这里重新获取下原数据，以实现所有数据的预测\n",
    "    # 第一列是年份，故先舍弃\n",
    "    X0 = data.iloc[:, 1:].to_numpy()\n",
    "    X1 = np.array([get_fractional_series(X0[:, 0], zeta),\n",
    "                   get_fractional_series(X0[:, 1], zeta),\n",
    "                   get_fractional_series(X0[:, 2], zeta)]).T\n",
    "\n",
    "    # 求 hat y1(1为上标的那个haty^1)\n",
    "    hat_y1 = [y1[0]]\n",
    "    a = []\n",
    "    for m in range(2, n + 1):\n",
    "        hat_ym = 0\n",
    "        hat_ym += mu2 ** (m - 1) * y1[0]\n",
    "        for v in range(1, m):\n",
    "            a.append(m - v)\n",
    "            hat_ym += mu2 ** (v - 1) * mu1 * (b2 * X1[m - v, 1] + b3 * X1[m - v, 2])\n",
    "        for w in range(0, m - 1):\n",
    "            hat_ym += mu2 ** w * (mu4 + mu3 * exp(tau * (m - w - 2)))\n",
    "        hat_y1.append(hat_ym)\n",
    "\n",
    "    hat_x1 = np.array(hat_y1) ** (1 / (1 - gamma))\n",
    "\n",
    "    hat_x0 = []\n",
    "    for k in range(2, n + 1):\n",
    "        hat_x0_m = 0\n",
    "        for j in range(0, k):\n",
    "            hat_x0_m += (-1) ** j * GAMMA(zeta + 1) / (GAMMA(j + 1) * GAMMA(zeta - j + 1)) * hat_x1[k - j - 1]\n",
    "        hat_x0.append(hat_x0_m)\n",
    "\n",
    "    original_x1 = data.iloc[1:, 1]\n",
    "    APE = np.abs(hat_x0 - original_x1) / original_x1\n",
    "    if APE.isnull().any():\n",
    "        return 1e18 # 有时会出现几万的mape，如果异常则返回1亿，不会对训练造成冲突\n",
    "    else:\n",
    "        return np.sqrt(np.mean(APE**2))+L2"
   ],
   "metadata": {
    "collapsed": false,
    "pycharm": {
     "name": "#%%\n"
    }
   }
  },
  {
   "cell_type": "code",
   "execution_count": 3,
   "outputs": [],
   "source": [
    "def target():\n",
    "    for i in range(10):\n",
    "        pop = random.randint(1,200)\n",
    "        max_iter = random.randint(1,1500)\n",
    "\n",
    "        # print(f'{cnt} 的 参数为 pop: {pop}, max_iter: {max_iter}')\n",
    "\n",
    "        # 调用粒子群，指定上述五个变量的取值范围，设置粒子群参数，最终得到最优的 zeta, tau, gamma\n",
    "        pso = PSO(func=func, n_dim=3, pop=pop, max_iter=max_iter, lb=[0, -10, 0], ub=[1, 10, 10])\n",
    "        pso.record_mode = True\n",
    "        pso.run()\n",
    "\n",
    "\n",
    "        result.append((pop, max_iter, pso.gbest_x[0], pso.gbest_x[1], pso.gbest_x[2], pso.gbest_y[0]))\n",
    "\n",
    "        # print(cnt, end=' ')\n",
    "        print((pop, max_iter, pso.gbest_x[0], pso.gbest_x[1], pso.gbest_x[2], pso.gbest_y[0]))"
   ],
   "metadata": {
    "collapsed": false,
    "pycharm": {
     "name": "#%%\n"
    }
   }
  },
  {
   "cell_type": "code",
   "execution_count": 4,
   "outputs": [],
   "source": [
    "result = []\n",
    "\n",
    "data = pd.read_excel(\"使用版2012-2023-2个相关因素_2位小数.xlsx\")\n",
    "data = data.iloc[:, :]\n",
    "n = data.shape[0]\n",
    "train_n = n-2"
   ],
   "metadata": {
    "collapsed": false,
    "pycharm": {
     "name": "#%%\n"
    }
   }
  },
  {
   "cell_type": "code",
   "execution_count": null,
   "outputs": [
    {
     "name": "stderr",
     "output_type": "stream",
     "text": [
      "D:\\Soft\\Python\\Anaconda\\envs\\common\\lib\\site-packages\\ipykernel_launcher.py:81: RuntimeWarning: invalid value encountered in power\n",
      "D:\\Soft\\Python\\Anaconda\\envs\\common\\lib\\site-packages\\ipykernel_launcher.py:17: RuntimeWarning: invalid value encountered in double_scalars\n",
      "  app.launch_new_instance()\n"
     ]
    },
    {
     "name": "stdout",
     "output_type": "stream",
     "text": [
      "(3, 1303, 1.0, -0.2379229866144717, 5.5085863982352645, 0.7121371228889869)\n",
      "(10, 507, 0.014186654076858086, -1.0, 0.0, 0.06278850674314712)\n",
      "(32, 391, 0.010742967670779195, 0.20296442474737353, 4.3857043379477165, 0.026854699619630294)\n",
      "(105, 49, 0.014186284606903249, -1.0, 0.0, 0.06278850674397043)\n",
      "(17, 1055, 0.0618094650937269, 0.05349107603705268, 5.731230950470831, 0.059435971630046866)\n",
      "(88, 291, 0.016090820863523227, 0.19743024207321042, 4.702405466177799, 0.026936610880745587)\n",
      "(44, 693, 0.014186627552999924, -1.0, 0.0, 0.06278850674306057)\n",
      "(89, 344, 0.01418664916363996, -1.0, 0.0, 0.06278850674313372)\n",
      "(166, 215, 0.024664486965343964, -0.6730724036066972, 8.800710150240366, 0.03608324016206075)\n",
      "(20, 1414, 0.01418666565616154, -1.0, 0.0, 0.0627885067431312)\n",
      "(38, 927, 0.014186620916600116, -1.0, 0.0, 0.06278850674310335)\n",
      "(172, 225, 2.1605020454671623e-09, 0.3349047034946189, 0.0, 0.03539740129721336)\n"
     ]
    },
    {
     "name": "stderr",
     "output_type": "stream",
     "text": [
      "D:\\Soft\\Python\\Anaconda\\envs\\common\\lib\\site-packages\\numpy\\lib\\function_base.py:1269: RuntimeWarning: invalid value encountered in subtract\n",
      "  a = op(a[slice1], a[slice2])\n"
     ]
    },
    {
     "name": "stdout",
     "output_type": "stream",
     "text": [
      "(53, 253, 0.014186593504893064, -1.0, 0.0, 0.0627885067431143)\n",
      "(109, 521, 7.040239156571103e-15, 0.33490446901761356, 0.0, 0.03447375749793204)\n",
      "(80, 1049, 0.007693826333639437, -0.7201684971779229, 5.944809165059564, 0.033854450163990704)\n",
      "(74, 1141, 5.253685423760252e-15, 0.33479577014294426, 0.0, 0.034154254229687514)\n",
      "(129, 728, 0.9159059067733208, 0.22214978081649278, 0.10337163221813475, 0.039228418682101966)\n",
      "(3, 672, 0.012656531898449763, -1.0, 10.0, 0.10436422513776972)\n",
      "(160, 641, 0.0077048290108465, -0.7202808130239053, 5.9453525648476075, 0.033854765564134054)\n",
      "(156, 822, 0.014186612764404216, -1.0, 0.0, 0.06278850674309903)\n",
      "(56, 1452, 0.014186610369242748, -1.0, 0.0, 0.06278850674312556)\n",
      "(173, 777, 0.010112680548265208, 0.19951865487719458, 4.624867238258501, 0.02652185328133308)\n",
      "(12, 282, 0.016775586501009774, 0.34941880204517756, 0.6465331640166208, 0.04530800864460143)\n",
      "(106, 1304, 0.01418666317894992, -1.0, 0.0, 0.06278850674308997)\n",
      "(138, 86, 7.88638874714241e-08, 0.3349007763475433, 0.0, 0.035397493922622786)\n",
      "(6, 1072, 0.01418665420064043, -1.0, 0.0, 0.06278850674313777)\n",
      "(140, 135, 0.014186642583817214, -1.0, 0.0, 0.0627885067431641)\n",
      "(135, 1164, 0.7518011930545798, 0.28064211318362287, 0.010907191741990754, 0.040971317119859754)\n",
      "(84, 135, 0.014186655512019837, -1.0, 0.0, 0.06278850674320358)\n",
      "(141, 212, 0.014186630354225384, -1.0, 0.0, 0.06278850674315198)\n",
      "(127, 1186, 1.0, 0.05406717861087523, 0.0, 0.03799350151394572)\n",
      "(197, 897, 0.014186624389084171, -1.0, 0.0, 0.06278850674306909)\n",
      "(158, 1128, 0.014186622035660356, -1.0, 0.0, 0.0627885067430964)\n",
      "(154, 1273, 0.014186601829380661, -1.0, 0.0, 0.06278850674311033)\n",
      "(177, 749, 0.010112945710323876, 0.19951843774272848, 4.624879144360163, 0.02652185328155736)\n",
      "(196, 1013, 0.014186645607146001, -1.0, 0.0, 0.06278850674309608)\n",
      "(35, 45, 0.014183574828308638, -1.0, 0.0, 0.06278850679191547)\n",
      "(135, 1385, 0.0101128282115429, 0.19951854942433103, 4.6248727791464885, 0.026521853281270952)\n",
      "(125, 612, 5.2566213310799154e-15, 0.3349118056387422, 0.0, 0.034353194202675394)\n",
      "(126, 272, 0.01011265921444573, 0.19951872399278694, 4.624862625682426, 0.026521853281518983)\n",
      "(155, 116, 0.022927412077994223, -0.5472877267999098, 9.062089767940797, 0.034769651125135116)\n",
      "(5, 568, 0.01418664016619719, -1.0, 0.0, 0.06278850674315124)\n",
      "(137, 1065, 0.007524607539178469, -0.7179790685130735, 5.932231850595485, 0.03385179281880802)\n",
      "(169, 1427, 0.014186654844953595, -1.0, 0.0, 0.06278850674308792)\n",
      "(118, 976, 0.014186661350401879, -1.0, 0.0, 0.0627885067430896)\n",
      "(44, 254, 0.014186635147028065, -1.0, 0.0, 0.06278850674312032)\n",
      "(75, 147, 0.014186655474224414, -1.0, 0.0, 0.06278850674312958)\n",
      "(130, 1334, 0.014186618182021361, -1.0, 0.0, 0.06278850674310513)\n",
      "(42, 719, 0.014186647979062045, -1.0, 0.0, 0.06278850674310192)\n"
     ]
    }
   ],
   "source": [
    "# 创建多个线程\n",
    "threads = [threading.Thread(target=target) for _ in range(20)]\n",
    "\n",
    "# 启动线程\n",
    "for thread in threads:\n",
    "    thread.start()\n",
    "\n",
    "# 等待所有线程完成\n",
    "for thread in threads:\n",
    "    thread.join()"
   ],
   "metadata": {
    "collapsed": false,
    "pycharm": {
     "name": "#%%\n",
     "is_executing": true
    }
   }
  },
  {
   "cell_type": "code",
   "execution_count": null,
   "outputs": [],
   "source": [
    "# with ThreadPoolExecutor(max_workers=100) as executor:\n",
    "#     futures = []\n",
    "#     for i in range(100):\n",
    "#         # 提交任务到线程池\n",
    "#         future = executor.submit(target, i)\n",
    "#         futures.append(future)\n",
    "#\n",
    "#     # 等待所有线程（任务）完成\n",
    "#     for future in futures:\n",
    "#         print(\"线程数量： \", executor.work_count())\n",
    "#         future.result()"
   ],
   "metadata": {
    "collapsed": false,
    "pycharm": {
     "name": "#%%\n",
     "is_executing": true
    }
   }
  },
  {
   "cell_type": "code",
   "execution_count": null,
   "outputs": [],
   "source": [
    "# threads = []\n",
    "# for i in range(1000):\n",
    "#     t = threading.Thread(target=target)\n",
    "#     t.start()\n",
    "#     threads.append(t)\n",
    "#\n",
    "# # 等待所有线程完成\n",
    "# for t in threads:\n",
    "#     t.join()\n",
    "#\n",
    "# pd.DataFrame(result).to_excel('file/01.xlsx')"
   ],
   "metadata": {
    "collapsed": false,
    "pycharm": {
     "name": "#%%\n",
     "is_executing": true
    }
   }
  },
  {
   "cell_type": "code",
   "execution_count": null,
   "outputs": [],
   "source": [
    "pd.DataFrame(result).to_excel('case1.xlsx')"
   ],
   "metadata": {
    "collapsed": false,
    "pycharm": {
     "name": "#%%\n",
     "is_executing": true
    }
   }
  },
  {
   "cell_type": "code",
   "execution_count": null,
   "outputs": [],
   "source": [],
   "metadata": {
    "collapsed": false,
    "pycharm": {
     "name": "#%%\n"
    }
   }
  }
 ],
 "metadata": {
  "kernelspec": {
   "display_name": "Python 3",
   "language": "python",
   "name": "python3"
  },
  "language_info": {
   "codemirror_mode": {
    "name": "ipython",
    "version": 2
   },
   "file_extension": ".py",
   "mimetype": "text/x-python",
   "name": "python",
   "nbconvert_exporter": "python",
   "pygments_lexer": "ipython2",
   "version": "2.7.6"
  }
 },
 "nbformat": 4,
 "nbformat_minor": 0
}