{
 "cells": [
  {
   "cell_type": "code",
   "execution_count": 122,
   "outputs": [],
   "source": [
    "from math import exp\n",
    "import pandas as pd\n",
    "import numpy as np\n",
    "from scipy.special import gamma as GAMMA"
   ],
   "metadata": {
    "collapsed": false,
    "pycharm": {
     "name": "#%%\n"
    }
   }
  },
  {
   "cell_type": "code",
   "execution_count": 123,
   "outputs": [],
   "source": [
    "zeta, tau, gamma = 0.13583964, -0.31637652, 10."
   ],
   "metadata": {
    "collapsed": false,
    "pycharm": {
     "name": "#%%\n"
    }
   }
  },
  {
   "cell_type": "code",
   "execution_count": 124,
   "outputs": [],
   "source": [
    "def get_fractional_series(X0):\n",
    "    \"\"\"\n",
    "    :param X0: 待计算分数阶的序列\n",
    "    :return: 分数阶序列\n",
    "    \"\"\"\n",
    "    len_x0 = len(X0)\n",
    "\n",
    "    # 初始化数组\n",
    "    xishu = np.zeros((len_x0, len_x0))\n",
    "    Xr = np.zeros(len_x0)\n",
    "\n",
    "    for k in range(len_x0):\n",
    "        tmp = 0\n",
    "        for i in range(k + 1):\n",
    "            xishu[k, i] = GAMMA(zeta + k - i) / (GAMMA(k - i + 1) * GAMMA(zeta))\n",
    "            tmp += xishu[k, i] * X0[i]\n",
    "        Xr[k] = tmp\n",
    "\n",
    "    return Xr"
   ],
   "metadata": {
    "collapsed": false,
    "pycharm": {
     "name": "#%%\n"
    }
   }
  },
  {
   "cell_type": "code",
   "execution_count": 125,
   "outputs": [
    {
     "data": {
      "text/plain": "    电子及通信设备制造业  主营业务收入（亿元）  R&D活动人员折合全时当量（人年）  R&D经费内部支出（亿元）\n11        2016    1.507327           3.299884       6.701289\n12        2017    1.596237           3.125379       7.232092\n13        2018    1.685147           2.950875       7.762178\n14        2019    1.753019           2.940913       7.183381\n15        2020    1.933047           3.291241       8.746418\n16        2021    2.519186           3.359376       9.791547\n17        2022    2.522894           4.411321      13.322350\n18        2023    2.564832           4.867823      16.109319",
      "text/html": "<div>\n<style scoped>\n    .dataframe tbody tr th:only-of-type {\n        vertical-align: middle;\n    }\n\n    .dataframe tbody tr th {\n        vertical-align: top;\n    }\n\n    .dataframe thead th {\n        text-align: right;\n    }\n</style>\n<table border=\"1\" class=\"dataframe\">\n  <thead>\n    <tr style=\"text-align: right;\">\n      <th></th>\n      <th>电子及通信设备制造业</th>\n      <th>主营业务收入（亿元）</th>\n      <th>R&amp;D活动人员折合全时当量（人年）</th>\n      <th>R&amp;D经费内部支出（亿元）</th>\n    </tr>\n  </thead>\n  <tbody>\n    <tr>\n      <th>11</th>\n      <td>2016</td>\n      <td>1.507327</td>\n      <td>3.299884</td>\n      <td>6.701289</td>\n    </tr>\n    <tr>\n      <th>12</th>\n      <td>2017</td>\n      <td>1.596237</td>\n      <td>3.125379</td>\n      <td>7.232092</td>\n    </tr>\n    <tr>\n      <th>13</th>\n      <td>2018</td>\n      <td>1.685147</td>\n      <td>2.950875</td>\n      <td>7.762178</td>\n    </tr>\n    <tr>\n      <th>14</th>\n      <td>2019</td>\n      <td>1.753019</td>\n      <td>2.940913</td>\n      <td>7.183381</td>\n    </tr>\n    <tr>\n      <th>15</th>\n      <td>2020</td>\n      <td>1.933047</td>\n      <td>3.291241</td>\n      <td>8.746418</td>\n    </tr>\n    <tr>\n      <th>16</th>\n      <td>2021</td>\n      <td>2.519186</td>\n      <td>3.359376</td>\n      <td>9.791547</td>\n    </tr>\n    <tr>\n      <th>17</th>\n      <td>2022</td>\n      <td>2.522894</td>\n      <td>4.411321</td>\n      <td>13.322350</td>\n    </tr>\n    <tr>\n      <th>18</th>\n      <td>2023</td>\n      <td>2.564832</td>\n      <td>4.867823</td>\n      <td>16.109319</td>\n    </tr>\n  </tbody>\n</table>\n</div>"
     },
     "execution_count": 125,
     "metadata": {},
     "output_type": "execute_result"
    }
   ],
   "source": [
    "data = pd.read_excel(\"京津冀3省2005-2023使用版数据-2位小数.xlsx\")\n",
    "data = data.iloc[11:, :] # i=5\n",
    "n = data.shape[0]\n",
    "train_n = n-2\n",
    "data"
   ],
   "metadata": {
    "collapsed": false,
    "pycharm": {
     "name": "#%%\n"
    }
   }
  },
  {
   "cell_type": "code",
   "execution_count": 126,
   "outputs": [],
   "source": [
    "# 第一列是年份，故先舍弃\n",
    "X0 = data.iloc[:train_n, 1:].to_numpy()\n",
    "\n",
    "X1 = np.array([get_fractional_series(X0[:,0]), get_fractional_series(X0[:,1]), get_fractional_series(X0[:,2])]).T\n",
    "y1 = X1[:, 0] ** (1 - gamma)\n",
    "\n",
    "Zy = (y1[1:] + y1[:-1]) / 2\n",
    "M2 = (X1[1:, 1] + X1[:-1, 1]) / 2\n",
    "M3 = (X1[1:, 2] + X1[:-1, 2]) / 2"
   ],
   "metadata": {
    "collapsed": false,
    "pycharm": {
     "name": "#%%\n"
    }
   }
  },
  {
   "cell_type": "code",
   "execution_count": 127,
   "outputs": [
    {
     "data": {
      "text/plain": "(-0.1706027395343204,\n 0.00014340562340123242,\n -3.916114339357797e-05,\n -0.0008567870826304022,\n -9.646345406740247e-06)"
     },
     "execution_count": 127,
     "metadata": {},
     "output_type": "execute_result"
    }
   ],
   "source": [
    "# 构建 B\n",
    "TAU = (np.exp(tau) - 1) / tau * np.exp(tau * (np.arange(1, train_n)))\n",
    "ONE = np.ones(train_n - 1)\n",
    "B = (1 - gamma) * np.array([-Zy, M2, M3, TAU, ONE]).T\n",
    "\n",
    "# 构建 Y\n",
    "Y = np.diff(y1)\n",
    "\n",
    "# 最小二乘法\n",
    "a, b2, b3, h1, h2 = np.dot(np.dot(np.linalg.inv(np.dot(B.T, B)), B.T), Y)\n",
    "a, b2, b3, h1, h2"
   ],
   "metadata": {
    "collapsed": false,
    "pycharm": {
     "name": "#%%\n"
    }
   }
  },
  {
   "cell_type": "code",
   "execution_count": 128,
   "outputs": [],
   "source": [
    "# 求 mu\n",
    "mu1 = (1-gamma)/(1+0.5*a*(1-gamma))\n",
    "mu2 = (1-0.5*a*(1-gamma))/(1+0.5*a*(1-gamma))\n",
    "mu3 = (h1*(1-gamma)*(exp(tau)-1))/(1+0.5*a*(1-gamma))/tau\n",
    "mu4 = (h2*(1-gamma))/(1+0.5*a*(1-gamma))\n"
   ],
   "metadata": {
    "collapsed": false,
    "pycharm": {
     "name": "#%%\n"
    }
   }
  },
  {
   "cell_type": "code",
   "execution_count": 129,
   "outputs": [
    {
     "name": "stdout",
     "output_type": "stream",
     "text": [
      "[0.02489610490048321, 0.0060743519867794745, 0.0027688460599109292, 0.0014779284159720607, 0.0007953738735669889, 0.0004556058519966159, 6.632667606580893e-05, 1.7712945263338827e-05]\n"
     ]
    }
   ],
   "source": [
    "# 这里重新获取下原数据，以实现所有数据的预测\n",
    "# 第一列是年份，故先舍弃\n",
    "X0 = data.iloc[:, 1:].to_numpy()\n",
    "\n",
    "X1 = np.array([get_fractional_series(X0[:,0]), get_fractional_series(X0[:,1]), get_fractional_series(X0[:,2])]).T\n",
    "# 求 hat y1(1为上标的那个haty^1)\n",
    "hat_y1 = [y1[0]]\n",
    "for m in range(2, n + 1):\n",
    "    hat_ym = 0\n",
    "    hat_ym += mu2 ** (m - 1) * y1[0]\n",
    "    for v in range(1, m):\n",
    "        hat_ym += mu2 ** (v - 1) * mu1 * (b2 * X1[m - v, 1] + b3 * X1[m - v, 2])\n",
    "    for w in range(0, m - 1):\n",
    "        hat_ym += mu2 ** w * (mu4 + mu3 * exp(tau * (m - w - 2)))\n",
    "    hat_y1.append(hat_ym)\n",
    "print(hat_y1)"
   ],
   "metadata": {
    "collapsed": false,
    "pycharm": {
     "name": "#%%\n"
    }
   }
  },
  {
   "cell_type": "code",
   "execution_count": 130,
   "outputs": [
    {
     "name": "stdout",
     "output_type": "stream",
     "text": [
      "[1.5073275  1.7631034  1.92392891 2.0629227  2.20994245 2.35108243\n",
      " 2.91243917 3.37262217]\n",
      "[1.5583485752394481, 1.5959590791656382, 1.6431195785689812, 1.7131266379684005, 1.783170668162774, 2.277631771133037, 2.616192779003679]\n"
     ]
    }
   ],
   "source": [
    "hat_x1 = np.array(hat_y1) ** (1 / (1 - gamma))\n",
    "print(hat_x1)\n",
    "hat_x0 = []\n",
    "for k in range(2, n + 1):\n",
    "    hat_x0_m = 0\n",
    "    for j in range(0, k):\n",
    "        hat_x0_m += (-1) ** j * GAMMA(zeta + 1) / (GAMMA(j + 1) * GAMMA(zeta - j + 1)) * hat_x1[k - j - 1]\n",
    "    hat_x0.append(hat_x0_m)\n",
    "print(hat_x0)"
   ],
   "metadata": {
    "collapsed": false,
    "pycharm": {
     "name": "#%%\n"
    }
   }
  },
  {
   "cell_type": "code",
   "execution_count": 131,
   "outputs": [
    {
     "name": "stdout",
     "output_type": "stream",
     "text": [
      "12    0.023736\n",
      "13    0.052926\n",
      "14    0.062691\n",
      "15    0.113769\n",
      "16    0.292164\n",
      "17    0.097215\n",
      "18    0.020025\n",
      "Name: 主营业务收入（亿元）, dtype: float64\n",
      "0.09464660267675852\n"
     ]
    }
   ],
   "source": [
    "original_x1 = data.iloc[1:, 1]\n",
    "APE = np.abs(hat_x0 - original_x1) / original_x1\n",
    "MAPE=np.mean(APE)\n",
    "\n",
    "print(APE)\n",
    "print(MAPE)"
   ],
   "metadata": {
    "collapsed": false,
    "pycharm": {
     "name": "#%%\n"
    }
   }
  },
  {
   "cell_type": "code",
   "execution_count": 132,
   "outputs": [],
   "source": [
    "pd.DataFrame(hat_x0).to_excel('FNGBM_hatx0_case2-11.xlsx')\n",
    "pd.DataFrame(APE).to_excel('FNGBM_APE_case2-11.xlsx')"
   ],
   "metadata": {
    "collapsed": false,
    "pycharm": {
     "name": "#%%\n"
    }
   }
  },
  {
   "cell_type": "code",
   "execution_count": 11,
   "outputs": [],
   "source": [],
   "metadata": {
    "collapsed": false,
    "pycharm": {
     "name": "#%%\n"
    }
   }
  },
  {
   "cell_type": "code",
   "execution_count": null,
   "outputs": [],
   "source": [],
   "metadata": {
    "collapsed": false,
    "pycharm": {
     "name": "#%%\n"
    }
   }
  }
 ],
 "metadata": {
  "kernelspec": {
   "display_name": "Python 3",
   "language": "python",
   "name": "python3"
  },
  "language_info": {
   "codemirror_mode": {
    "name": "ipython",
    "version": 2
   },
   "file_extension": ".py",
   "mimetype": "text/x-python",
   "name": "python",
   "nbconvert_exporter": "python",
   "pygments_lexer": "ipython2",
   "version": "2.7.6"
  }
 },
 "nbformat": 4,
 "nbformat_minor": 0
}