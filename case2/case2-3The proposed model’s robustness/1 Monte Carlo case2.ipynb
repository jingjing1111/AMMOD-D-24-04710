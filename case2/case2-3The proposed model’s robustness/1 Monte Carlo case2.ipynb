{
 "cells": [
  {
   "cell_type": "code",
   "execution_count": 1,
   "outputs": [],
   "source": [
    "import random\n",
    "import threading\n",
    "\n",
    "from sko.PSO import PSO\n",
    "from math import exp\n",
    "\n",
    "import pandas as pd\n",
    "import numpy as np\n",
    "from scipy.special import gamma as GAMMA"
   ],
   "metadata": {
    "collapsed": false,
    "pycharm": {
     "name": "#%%\n"
    }
   }
  },
  {
   "cell_type": "code",
   "execution_count": 2,
   "outputs": [],
   "source": [
    "def get_fractional_series(X0, zeta):\n",
    "    \"\"\"\n",
    "    计算序列的分数阶\n",
    "    :param X0: 待计算分数阶的序列\n",
    "    :param zeta: zeta\n",
    "    :return: 分数阶序列\n",
    "    \"\"\"\n",
    "    len_x0 = len(X0)\n",
    "\n",
    "    # 初始化数组\n",
    "    xishu = np.zeros((len_x0, len_x0))\n",
    "    Xr = np.zeros(len_x0)\n",
    "\n",
    "    for k in range(len_x0):\n",
    "        tmp = 0\n",
    "        for i in range(k + 1):\n",
    "            xishu[k, i] = GAMMA(zeta + k - i) / (GAMMA(k - i + 1) * GAMMA(zeta))\n",
    "            tmp += xishu[k, i] * X0[i]\n",
    "        Xr[k] = tmp\n",
    "\n",
    "    return Xr\n",
    "\n",
    "\n",
    "def func(XX):\n",
    "    zeta, tau, gamma = XX\n",
    "\n",
    "    # 第一列是年份，故先舍弃\n",
    "    X0 = data.iloc[:train_n, 1:].to_numpy()\n",
    "    X1 = np.array([get_fractional_series(X0[:, 0], zeta),\n",
    "                   get_fractional_series(X0[:, 1], zeta),\n",
    "                   get_fractional_series(X0[:, 2], zeta)]).T\n",
    "\n",
    "    y1 = X1[:, 0] ** (1 - gamma)\n",
    "\n",
    "    Zy = (y1[1:] + y1[:-1]) / 2\n",
    "    M2 = (X1[1:, 1] + X1[:-1, 1]) / 2\n",
    "    M3 = (X1[1:, 2] + X1[:-1, 2]) / 2\n",
    "\n",
    "    # 构建 B\n",
    "    TAU = (np.exp(tau) - 1) / tau * np.exp(tau * (np.arange(1, train_n)))\n",
    "    ONE = np.ones(train_n - 1)\n",
    "    B = (1 - gamma) * np.array([-Zy, M2, M3, TAU, ONE]).T\n",
    "\n",
    "    # 构建 Y\n",
    "    Y = np.diff(y1)\n",
    "\n",
    "    # 最小二乘法\n",
    "    # 最小二乘法\n",
    "    try:\n",
    "        a, b2, b3, h1, h2 = np.dot(np.dot(np.linalg.inv(np.dot(B.T, B)), B.T), Y)\n",
    "    except:\n",
    "        return 1\n",
    "    #L1 = 0.00001 * (a ** 2 + b2 ** 2 + b3 ** 2 + h1 ** 2 + h2** 2)\n",
    "    L2 = 0.00001 * (a ** 2 + b2 ** 2 + b3 ** 2 )\n",
    "\n",
    "    # 求 mu\n",
    "    mu1 = (1 - gamma) / (1 + 0.5 * a * (1 - gamma))\n",
    "    mu2 = (1 - 0.5 * a * (1 - gamma)) / (1 + 0.5 * a * (1 - gamma))\n",
    "    mu3 = (h1 * (1 - gamma) * (exp(tau) - 1)) / (1 + 0.5 * a * (1 - gamma)) / tau\n",
    "    mu4 = (h2 * (1 - gamma)) / (1 + 0.5 * a * (1 - gamma))\n",
    "\n",
    "    # 这里重新获取下原数据，以实现所有数据的预测\n",
    "    # 第一列是年份，故先舍弃\n",
    "    X0 = data.iloc[:, 1:].to_numpy()\n",
    "    X1 = np.array([get_fractional_series(X0[:, 0], zeta),\n",
    "                   get_fractional_series(X0[:, 1], zeta),\n",
    "                   get_fractional_series(X0[:, 2], zeta)]).T\n",
    "\n",
    "    # 求 hat y1(1为上标的那个haty^1)\n",
    "    hat_y1 = [y1[0]]\n",
    "    a = []\n",
    "    for m in range(2, n + 1):\n",
    "        hat_ym = 0\n",
    "        hat_ym += mu2 ** (m - 1) * y1[0]\n",
    "        for v in range(1, m):\n",
    "            a.append(m - v)\n",
    "            hat_ym += mu2 ** (v - 1) * mu1 * (b2 * X1[m - v, 1] + b3 * X1[m - v, 2])\n",
    "        for w in range(0, m - 1):\n",
    "            hat_ym += mu2 ** w * (mu4 + mu3 * exp(tau * (m - w - 2)))\n",
    "        hat_y1.append(hat_ym)\n",
    "\n",
    "    hat_x1 = np.array(hat_y1) ** (1 / (1 - gamma))\n",
    "\n",
    "    hat_x0 = []\n",
    "    for k in range(2, n + 1):\n",
    "        hat_x0_m = 0\n",
    "        for j in range(0, k):\n",
    "            hat_x0_m += (-1) ** j * GAMMA(zeta + 1) / (GAMMA(j + 1) * GAMMA(zeta - j + 1)) * hat_x1[k - j - 1]\n",
    "        hat_x0.append(hat_x0_m)\n",
    "\n",
    "    original_x1 = data.iloc[1:, 1]\n",
    "    APE = np.abs(hat_x0 - original_x1) / original_x1\n",
    "    # MAPE= np.mean(APE)\n",
    "    if APE.isnull().any():\n",
    "        return 1\n",
    "    else:\n",
    "        return np.sqrt(np.mean(APE**2))+ L2#均方根误差和作为损失函数"
   ],
   "metadata": {
    "collapsed": false,
    "pycharm": {
     "name": "#%%\n"
    }
   }
  },
  {
   "cell_type": "code",
   "execution_count": 3,
   "outputs": [],
   "source": [
    "def target():\n",
    "    for i in range(10):\n",
    "        pop = random.randint(1,200)\n",
    "        max_iter = random.randint(1,1500)\n",
    "\n",
    "        # print(f'{cnt} 的 参数为 pop: {pop}, max_iter: {max_iter}')\n",
    "\n",
    "        # 调用粒子群，指定上述五个变量的取值范围，设置粒子群参数，最终得到最优的 zeta, tau, gamma\n",
    "        pso = PSO(func=func, n_dim=3, pop=pop, max_iter=max_iter, lb=[0, -10, 0], ub=[1, 10, 10])\n",
    "        pso.record_mode = True\n",
    "        pso.run()\n",
    "\n",
    "\n",
    "        result.append((pop, max_iter, pso.gbest_x[0], pso.gbest_x[1], pso.gbest_x[2], pso.gbest_y[0]))\n",
    "\n",
    "        # print(cnt, end=' ')\n",
    "        print((pop, max_iter, pso.gbest_x[0], pso.gbest_x[1], pso.gbest_x[2], pso.gbest_y[0]))"
   ],
   "metadata": {
    "collapsed": false,
    "pycharm": {
     "name": "#%%\n"
    }
   }
  },
  {
   "cell_type": "code",
   "execution_count": 4,
   "outputs": [],
   "source": [
    "result = []\n",
    "\n",
    "data = pd.read_excel(\"京津冀3省2014-2023使用版数据-2位小数.xlsx\")\n",
    "data = data.iloc[:, :]\n",
    "n = data.shape[0]\n",
    "train_n = n-2"
   ],
   "metadata": {
    "collapsed": false,
    "pycharm": {
     "name": "#%%\n"
    }
   }
  },
  {
   "cell_type": "code",
   "execution_count": null,
   "outputs": [
    {
     "name": "stderr",
     "output_type": "stream",
     "text": [
      "D:\\Soft\\Python\\Anaconda\\envs\\common\\lib\\site-packages\\ipykernel_launcher.py:82: RuntimeWarning: invalid value encountered in power\n",
      "D:\\Soft\\Python\\Anaconda\\envs\\common\\lib\\site-packages\\ipykernel_launcher.py:17: RuntimeWarning: invalid value encountered in double_scalars\n",
      "  app.launch_new_instance()\n"
     ]
    },
    {
     "name": "stdout",
     "output_type": "stream",
     "text": [
      "(44, 8, 0.586636105935045, 0.4365540862491193, 0.0, 0.22832318932578097)\n"
     ]
    },
    {
     "name": "stderr",
     "output_type": "stream",
     "text": [
      "D:\\Soft\\Python\\Anaconda\\envs\\common\\lib\\site-packages\\ipykernel_launcher.py:82: RuntimeWarning: overflow encountered in power\n"
     ]
    },
    {
     "name": "stdout",
     "output_type": "stream",
     "text": [
      "(6, 1449, 0.8846038591194199, -0.005801036859195122, 1.3756465525323684, 0.08374911824318414)\n",
      "(21, 512, 0.7597252978770498, 0.008721239007296058, 1.880208832909174, 0.10294169659965434)\n"
     ]
    },
    {
     "name": "stderr",
     "output_type": "stream",
     "text": [
      "D:\\Soft\\Python\\Anaconda\\envs\\common\\lib\\site-packages\\ipykernel_launcher.py:88: RuntimeWarning: invalid value encountered in double_scalars\n"
     ]
    },
    {
     "name": "stdout",
     "output_type": "stream",
     "text": [
      "(8, 652, 0.015222065764806855, 0.39020041532080935, 5.596906454172672, 0.10886186765767063)\n",
      "(31, 636, 2.705169956356516e-12, 0.1637833945691811, 7.861726701646864, 0.06669104674578484)\n",
      "(114, 184, 2.5666247988506056e-12, 0.1637740714592352, 7.862045294645994, 0.06669505304439682)\n",
      "(29, 704, 1.0, -0.02769417665816855, 1.1433480561122236, 0.0716598588262537)\n",
      "(22, 1039, 1.0, -0.0276939073820007, 1.1433491182142996, 0.07165985882116797)\n",
      "(24, 982, 0.2931054677405604, -0.8312779353688989, 9.208860093142917, 0.12036338649775193)\n",
      "(13, 678, 3.3689314205032134e-07, 0.17267832774592493, 7.787257812804489, 0.0672674395709736)\n",
      "(110, 320, 0.3076252252443335, -0.48885475733900613, 5.922318678940024, 0.11920181428617758)\n",
      "(86, 405, 0.24907531968149435, 0.098919852091425, 1.3870625864097783, 0.0984583329727266)\n",
      "(124, 36, 1.0, 0.341707067150095, 0.0, 0.12692230393474344)\n",
      "(195, 224, 1.9431505205812284e-12, 0.16342244177521922, 7.862016550262453, 0.06665711805259598)\n",
      "(67, 134, 1.0, 0.3415821161708056, 0.0, 0.1269200867729343)\n",
      "(51, 478, 0.3068253248514628, -0.4946175757784854, 5.980355507479755, 0.11919323750933299)\n",
      "(40, 1412, 8.330003352944319e-13, 0.1634310510627095, 7.851405296146648, 0.06652583708567714)\n",
      "(17, 1012, 0.307228568131837, -0.384112715036269, 5.147014951650983, 0.12002436291927569)\n",
      "(48, 825, 1.9871881862073242e-12, 0.16290283934298735, 7.8618707186428916, 0.06664103051111551)\n",
      "(23, 406, 0.3182494373160155, -0.41410185164965563, 5.219528919918885, 0.11969780069381712)\n",
      "(190, 147, 6.435587662335988e-12, 0.1637978271315514, 7.861770435159846, 0.06670093906827304)\n",
      "(103, 348, 1.0, -0.027694116183891934, 1.1433480878241726, 0.07165985882551373)\n",
      "(122, 679, 0.25926158719560444, 0.09192808259644944, 1.326419700123167, 0.09955323192842218)\n",
      "(64, 617, 2.6678778523877616e-12, 0.1636827456823728, 7.862232763514675, 0.06668696712395589)\n"
     ]
    }
   ],
   "source": [
    "# 创建多个线程\n",
    "threads = [threading.Thread(target=target) for _ in range(20)]\n",
    "\n",
    "# 启动线程\n",
    "for thread in threads:\n",
    "    thread.start()\n",
    "\n",
    "# 等待所有线程完成\n",
    "for thread in threads:\n",
    "    thread.join()"
   ],
   "metadata": {
    "collapsed": false,
    "pycharm": {
     "name": "#%%\n",
     "is_executing": true
    }
   }
  },
  {
   "cell_type": "code",
   "execution_count": null,
   "outputs": [],
   "source": [
    "# with ThreadPoolExecutor(max_workers=100) as executor:\n",
    "#     futures = []\n",
    "#     for i in range(100):\n",
    "#         # 提交任务到线程池\n",
    "#         future = executor.submit(target, i)\n",
    "#         futures.append(future)\n",
    "#\n",
    "#     # 等待所有线程（任务）完成\n",
    "#     for future in futures:\n",
    "#         print(\"线程数量： \", executor.work_count())\n",
    "#         future.result()"
   ],
   "metadata": {
    "collapsed": false,
    "pycharm": {
     "name": "#%%\n",
     "is_executing": true
    }
   }
  },
  {
   "cell_type": "code",
   "execution_count": null,
   "outputs": [],
   "source": [
    "# threads = []\n",
    "# for i in range(1000):\n",
    "#     t = threading.Thread(target=target)\n",
    "#     t.start()\n",
    "#     threads.append(t)\n",
    "#\n",
    "# # 等待所有线程完成\n",
    "# for t in threads:\n",
    "#     t.join()\n",
    "#\n",
    "# pd.DataFrame(result).to_excel('file/01.xlsx')"
   ],
   "metadata": {
    "collapsed": false,
    "pycharm": {
     "name": "#%%\n",
     "is_executing": true
    }
   }
  },
  {
   "cell_type": "code",
   "execution_count": null,
   "outputs": [],
   "source": [
    "pd.DataFrame(result).to_excel('case2.xlsx')"
   ],
   "metadata": {
    "collapsed": false,
    "pycharm": {
     "name": "#%%\n",
     "is_executing": true
    }
   }
  },
  {
   "cell_type": "code",
   "execution_count": null,
   "outputs": [],
   "source": [],
   "metadata": {
    "collapsed": false,
    "pycharm": {
     "name": "#%%\n"
    }
   }
  }
 ],
 "metadata": {
  "kernelspec": {
   "display_name": "Python 3",
   "language": "python",
   "name": "python3"
  },
  "language_info": {
   "codemirror_mode": {
    "name": "ipython",
    "version": 2
   },
   "file_extension": ".py",
   "mimetype": "text/x-python",
   "name": "python",
   "nbconvert_exporter": "python",
   "pygments_lexer": "ipython2",
   "version": "2.7.6"
  }
 },
 "nbformat": 4,
 "nbformat_minor": 0
}