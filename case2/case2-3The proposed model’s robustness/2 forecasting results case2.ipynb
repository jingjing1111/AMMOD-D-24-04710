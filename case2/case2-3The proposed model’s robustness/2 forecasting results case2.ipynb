{
 "cells": [
  {
   "cell_type": "code",
   "execution_count": 2,
   "outputs": [],
   "source": [
    "from math import exp\n",
    "\n",
    "import pandas as pd\n",
    "import numpy as np\n",
    "from scipy.special import gamma as GAMMA"
   ],
   "metadata": {
    "collapsed": false,
    "pycharm": {
     "name": "#%%\n"
    }
   }
  },
  {
   "cell_type": "code",
   "execution_count": 3,
   "outputs": [],
   "source": [
    "def get_fractional_series(X0, zeta):\n",
    "    \"\"\"\n",
    "    计算序列的分数阶\n",
    "    :param X0: 待计算分数阶的序列\n",
    "    :param zeta: zeta\n",
    "    :return: 分数阶序列\n",
    "    \"\"\"\n",
    "    len_x0 = len(X0)\n",
    "\n",
    "    # 初始化数组\n",
    "    xishu = np.zeros((len_x0, len_x0))\n",
    "    Xr = np.zeros(len_x0)\n",
    "\n",
    "    for k in range(len_x0):\n",
    "        tmp = 0\n",
    "        for i in range(k + 1):\n",
    "            xishu[k, i] = GAMMA(zeta + k - i) / (GAMMA(k - i + 1) * GAMMA(zeta))\n",
    "            tmp += xishu[k, i] * X0[i]\n",
    "        Xr[k] = tmp\n",
    "\n",
    "    return Xr\n",
    "\n",
    "\n",
    "def func(XX):\n",
    "    zeta, tau, gamma = XX\n",
    "    # 第一列是年份，故先舍弃\n",
    "    X0 = data.iloc[:train_n, 1:].to_numpy()\n",
    "\n",
    "    X1 = np.array([get_fractional_series(X0[:, 0], zeta),\n",
    "                   get_fractional_series(X0[:, 1], zeta),\n",
    "                   get_fractional_series(X0[:, 2], zeta)]).T\n",
    "\n",
    "    y1 = X1[:, 0] ** (1 - gamma)\n",
    "\n",
    "    Zy = (y1[1:] + y1[:-1]) / 2\n",
    "    M2 = (X1[1:, 1] + X1[:-1, 1]) / 2\n",
    "    M3 = (X1[1:, 2] + X1[:-1, 2]) / 2\n",
    "\n",
    "    # 构建 B\n",
    "    TAU = (np.exp(tau) - 1) / tau * np.exp(tau * (np.arange(1, train_n)))\n",
    "    ONE = np.ones(train_n - 1)\n",
    "    B = (1 - gamma) * np.array([-Zy, M2, M3, TAU, ONE]).T\n",
    "\n",
    "    # 构建 Y\n",
    "    Y = np.diff(y1)\n",
    "\n",
    "    # 最小二乘法\n",
    "    # 最小二乘法\n",
    "    try:\n",
    "        a, b2, b3, h1, h2 = np.dot(np.dot(np.linalg.inv(np.dot(B.T, B)), B.T), Y)\n",
    "    except:\n",
    "        return 1e9 # 有时会出现几万的mape，如果异常则返回1亿，不会对训练造成冲突\n",
    "\n",
    "    # 求 mu\n",
    "    mu1 = (1 - gamma) / (1 + 0.5 * a * (1 - gamma))\n",
    "    mu2 = (1 - 0.5 * a * (1 - gamma)) / (1 + 0.5 * a * (1 - gamma))\n",
    "    mu3 = (h1 * (1 - gamma) * (exp(tau) - 1)) / (1 + 0.5 * a * (1 - gamma)) / tau\n",
    "    mu4 = (h2 * (1 - gamma)) / (1 + 0.5 * a * (1 - gamma))\n",
    "\n",
    "    # 这里重新获取下原数据，以实现所有数据的预测\n",
    "    # 第一列是年份，故先舍弃\n",
    "    X0 = data.iloc[:, 1:].to_numpy()\n",
    "    X1 = np.array([get_fractional_series(X0[:, 0], zeta),\n",
    "                   get_fractional_series(X0[:, 1], zeta),\n",
    "                   get_fractional_series(X0[:, 2], zeta)]).T\n",
    "\n",
    "    # 求 hat y1(1为上标的那个haty^1)\n",
    "    hat_y1 = [y1[0]]\n",
    "    a = []\n",
    "    for m in range(2, n + 1):\n",
    "        hat_ym = 0\n",
    "        hat_ym += mu2 ** (m - 1) * y1[0]\n",
    "        for v in range(1, m):\n",
    "            a.append(m - v)\n",
    "            hat_ym += mu2 ** (v - 1) * mu1 * (b2 * X1[m - v, 1] + b3 * X1[m - v, 2])\n",
    "        for w in range(0, m - 1):\n",
    "            hat_ym += mu2 ** w * (mu4 + mu3 * exp(tau * (m - w - 2)))\n",
    "        hat_y1.append(hat_ym)\n",
    "\n",
    "    hat_x1 = np.array(hat_y1) ** (1 / (1 - gamma))\n",
    "\n",
    "    hat_x0 = []\n",
    "    for k in range(2, n + 1):\n",
    "        hat_x0_m = 0\n",
    "        for j in range(0, k):\n",
    "            hat_x0_m += (-1) ** j * GAMMA(zeta + 1) / (GAMMA(j + 1) * GAMMA(zeta - j + 1)) * hat_x1[k - j - 1]\n",
    "        hat_x0.append(hat_x0_m)\n",
    "\n",
    "    original_x1 = data.iloc[1:, 1]\n",
    "    APE = np.abs(hat_x0 - original_x1) / original_x1\n",
    "    return  pd.Series([np.mean(APE)] + list(hat_x0[-2:]))"
   ],
   "metadata": {
    "collapsed": false,
    "pycharm": {
     "name": "#%%\n"
    }
   }
  },
  {
   "cell_type": "code",
   "execution_count": 4,
   "outputs": [],
   "source": [
    "data = pd.read_excel(\"京津冀3省2014-2023使用版数据-2位小数.xlsx\")\n",
    "data = data.iloc[:, :]\n",
    "n = data.shape[0]\n",
    "train_n = n-2"
   ],
   "metadata": {
    "collapsed": false,
    "pycharm": {
     "name": "#%%\n"
    }
   }
  },
  {
   "cell_type": "code",
   "execution_count": 5,
   "outputs": [],
   "source": [
    "paraments_result = []\n",
    "paraments = pd.read_excel(\"case2.xlsx\")"
   ],
   "metadata": {
    "collapsed": false,
    "pycharm": {
     "name": "#%%\n"
    }
   }
  },
  {
   "cell_type": "code",
   "execution_count": 6,
   "outputs": [],
   "source": [
    "a = paraments.apply(lambda x: func(list((x[2], x[3], x[4]))), axis=1)\n",
    "a['pop'] = paraments[0]\n",
    "a['max_iter'] = paraments[1]\n",
    "a.columns = [\"MAPE\", \"倒数第二年预测值\", \"最后一年预测值\", \"pop\", \"max_iter\"]\n",
    "\n",
    "a.to_excel(\"后俩值.xlsx\", index=0)"
   ],
   "metadata": {
    "collapsed": false,
    "pycharm": {
     "name": "#%%\n"
    }
   }
  },
  {
   "cell_type": "code",
   "execution_count": null,
   "outputs": [],
   "source": [],
   "metadata": {
    "collapsed": false,
    "pycharm": {
     "name": "#%%\n"
    }
   }
  }
 ],
 "metadata": {
  "kernelspec": {
   "display_name": "Python 3",
   "language": "python",
   "name": "python3"
  },
  "language_info": {
   "codemirror_mode": {
    "name": "ipython",
    "version": 2
   },
   "file_extension": ".py",
   "mimetype": "text/x-python",
   "name": "python",
   "nbconvert_exporter": "python",
   "pygments_lexer": "ipython2",
   "version": "2.7.6"
  }
 },
 "nbformat": 4,
 "nbformat_minor": 0
}