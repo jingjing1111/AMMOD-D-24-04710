{
 "cells": [
  {
   "cell_type": "code",
   "execution_count": 1,
   "outputs": [],
   "source": [
    "from math import exp\n",
    "import pandas as pd\n",
    "import numpy as np\n",
    "from scipy.special import gamma as GAMMA"
   ],
   "metadata": {
    "collapsed": false,
    "pycharm": {
     "name": "#%%\n"
    }
   }
  },
  {
   "cell_type": "code",
   "execution_count": 2,
   "outputs": [],
   "source": [
    "\n",
    "zeta, tau, gamma =0.15913294, -0.09671497,  7.53715001\n"
   ],
   "metadata": {
    "collapsed": false,
    "pycharm": {
     "name": "#%%\n"
    }
   }
  },
  {
   "cell_type": "code",
   "execution_count": 3,
   "outputs": [],
   "source": [
    "def get_fractional_series(X0):\n",
    "    \"\"\"\n",
    "    :param X0: 待计算分数阶的序列\n",
    "    :return: 分数阶序列\n",
    "    \"\"\"\n",
    "    len_x0 = len(X0)\n",
    "\n",
    "    # 初始化数组\n",
    "    xishu = np.zeros((len_x0, len_x0))\n",
    "    Xr = np.zeros(len_x0)\n",
    "\n",
    "    for k in range(len_x0):\n",
    "        tmp = 0\n",
    "        for i in range(k + 1):\n",
    "            xishu[k, i] = GAMMA(zeta + k - i) / (GAMMA(k - i + 1) * GAMMA(zeta))\n",
    "            tmp += xishu[k, i] * X0[i]\n",
    "        Xr[k] = tmp\n",
    "\n",
    "    return Xr"
   ],
   "metadata": {
    "collapsed": false,
    "pycharm": {
     "name": "#%%\n"
    }
   }
  },
  {
   "cell_type": "code",
   "execution_count": 4,
   "outputs": [
    {
     "data": {
      "text/plain": "   电子及通信设备制造业  主营业务收入（亿元）  R&D活动人员折合全时当量（人年）  R&D经费内部支出（亿元）\n0        2014    1.837233           2.948889       5.300143\n1        2015    1.630165           3.398392       6.479943\n2        2016    1.507327           3.299884       6.701289\n3        2017    1.596237           3.125379       7.232092\n4        2018    1.685147           2.950875       7.762178\n5        2019    1.753019           2.940913       7.183381\n6        2020    1.933047           3.291241       8.746418\n7        2021    2.519186           3.359376       9.791547\n8        2022    2.522894           4.411321      13.322350\n9        2023    2.564832           4.867823      16.109319",
      "text/html": "<div>\n<style scoped>\n    .dataframe tbody tr th:only-of-type {\n        vertical-align: middle;\n    }\n\n    .dataframe tbody tr th {\n        vertical-align: top;\n    }\n\n    .dataframe thead th {\n        text-align: right;\n    }\n</style>\n<table border=\"1\" class=\"dataframe\">\n  <thead>\n    <tr style=\"text-align: right;\">\n      <th></th>\n      <th>电子及通信设备制造业</th>\n      <th>主营业务收入（亿元）</th>\n      <th>R&amp;D活动人员折合全时当量（人年）</th>\n      <th>R&amp;D经费内部支出（亿元）</th>\n    </tr>\n  </thead>\n  <tbody>\n    <tr>\n      <th>0</th>\n      <td>2014</td>\n      <td>1.837233</td>\n      <td>2.948889</td>\n      <td>5.300143</td>\n    </tr>\n    <tr>\n      <th>1</th>\n      <td>2015</td>\n      <td>1.630165</td>\n      <td>3.398392</td>\n      <td>6.479943</td>\n    </tr>\n    <tr>\n      <th>2</th>\n      <td>2016</td>\n      <td>1.507327</td>\n      <td>3.299884</td>\n      <td>6.701289</td>\n    </tr>\n    <tr>\n      <th>3</th>\n      <td>2017</td>\n      <td>1.596237</td>\n      <td>3.125379</td>\n      <td>7.232092</td>\n    </tr>\n    <tr>\n      <th>4</th>\n      <td>2018</td>\n      <td>1.685147</td>\n      <td>2.950875</td>\n      <td>7.762178</td>\n    </tr>\n    <tr>\n      <th>5</th>\n      <td>2019</td>\n      <td>1.753019</td>\n      <td>2.940913</td>\n      <td>7.183381</td>\n    </tr>\n    <tr>\n      <th>6</th>\n      <td>2020</td>\n      <td>1.933047</td>\n      <td>3.291241</td>\n      <td>8.746418</td>\n    </tr>\n    <tr>\n      <th>7</th>\n      <td>2021</td>\n      <td>2.519186</td>\n      <td>3.359376</td>\n      <td>9.791547</td>\n    </tr>\n    <tr>\n      <th>8</th>\n      <td>2022</td>\n      <td>2.522894</td>\n      <td>4.411321</td>\n      <td>13.322350</td>\n    </tr>\n    <tr>\n      <th>9</th>\n      <td>2023</td>\n      <td>2.564832</td>\n      <td>4.867823</td>\n      <td>16.109319</td>\n    </tr>\n  </tbody>\n</table>\n</div>"
     },
     "execution_count": 4,
     "metadata": {},
     "output_type": "execute_result"
    }
   ],
   "source": [
    "data = pd.read_excel(\"京津冀3省2014-2023使用版数据-2位小数.xlsx\")\n",
    "n = data.shape[0]\n",
    "train_n = n-2\n",
    "data\n"
   ],
   "metadata": {
    "collapsed": false,
    "pycharm": {
     "name": "#%%\n"
    }
   }
  },
  {
   "cell_type": "code",
   "execution_count": 5,
   "outputs": [],
   "source": [
    "# 第一列是年份，故先舍弃\n",
    "X0 = data.iloc[:train_n, 1:].to_numpy()\n",
    "\n",
    "X1 = np.array([get_fractional_series(X0[:,0]), get_fractional_series(X0[:,1]), get_fractional_series(X0[:,2])]).T\n",
    "y1 = X1[:, 0] ** (1 - gamma)\n",
    "\n",
    "Zy = (y1[1:] + y1[:-1]) / 2\n",
    "M2 = (X1[1:, 1] + X1[:-1, 1]) / 2\n",
    "M3 = (X1[1:, 2] + X1[:-1, 2]) / 2"
   ],
   "metadata": {
    "collapsed": false,
    "pycharm": {
     "name": "#%%\n"
    }
   }
  },
  {
   "cell_type": "code",
   "execution_count": 6,
   "outputs": [
    {
     "data": {
      "text/plain": "(-0.027478068936147293,\n -0.0005491838990090679,\n 0.00010703629123855608,\n 7.536340413758641e-06,\n 0.0014531948165078844)"
     },
     "execution_count": 6,
     "metadata": {},
     "output_type": "execute_result"
    }
   ],
   "source": [
    "# 构建 B\n",
    "TAU = (np.exp(tau) - 1) / tau * np.exp(tau * (np.arange(1, train_n)))\n",
    "ONE = np.ones(train_n - 1)\n",
    "B = (1 - gamma) * np.array([-Zy, M2, M3, TAU, ONE]).T\n",
    "\n",
    "# 构建 Y\n",
    "Y = np.diff(y1)\n",
    "\n",
    "# 最小二乘法\n",
    "a, b2, b3, h1, h2 = np.dot(np.dot(np.linalg.inv(np.dot(B.T, B)), B.T), Y)\n",
    "a, b2, b3, h1, h2"
   ],
   "metadata": {
    "collapsed": false,
    "pycharm": {
     "name": "#%%\n"
    }
   }
  },
  {
   "cell_type": "code",
   "execution_count": 7,
   "outputs": [
    {
     "data": {
      "text/plain": "(-5.998408200246729,\n 0.835175325966469,\n -4.308879849770226e-05,\n -0.008716855703896935)"
     },
     "execution_count": 7,
     "metadata": {},
     "output_type": "execute_result"
    }
   ],
   "source": [
    "# 求 mu\n",
    "mu1 = (1-gamma)/(1+0.5*a*(1-gamma))\n",
    "mu2 = (1-0.5*a*(1-gamma))/(1+0.5*a*(1-gamma))\n",
    "mu3 = (h1*(1-gamma)*(exp(tau)-1))/(1+0.5*a*(1-gamma))/tau\n",
    "mu4 = (h2*(1-gamma))/(1+0.5*a*(1-gamma))\n",
    "mu1,mu2,mu3,mu4"
   ],
   "metadata": {
    "collapsed": false,
    "pycharm": {
     "name": "#%%\n"
    }
   }
  },
  {
   "cell_type": "code",
   "execution_count": 8,
   "outputs": [
    {
     "name": "stdout",
     "output_type": "stream",
     "text": [
      "[0.018755054100109546, 0.014942813794624117, 0.011993457917795502, 0.009029560967667582, 0.005832390906452118, 0.00355604441518868, 0.001960569638660111, 0.0003453931347949142, 0.0002671684049146165, 0.00019622905440575423]\n"
     ]
    }
   ],
   "source": [
    "# 这里重新获取下原数据，以实现所有数据的预测\n",
    "# 第一列是年份，故先舍弃\n",
    "X0 = data.iloc[:, 1:].to_numpy()\n",
    "\n",
    "X1 = np.array([get_fractional_series(X0[:,0]), get_fractional_series(X0[:,1]), get_fractional_series(X0[:,2])]).T\n",
    "# 求 hat y1(1为上标的那个haty^1)\n",
    "hat_y1 = [y1[0]]\n",
    "for m in range(2, n + 1):\n",
    "    hat_ym = 0\n",
    "    hat_ym += mu2 ** (m - 1) * y1[0]\n",
    "    for v in range(1, m):\n",
    "        hat_ym += mu2 ** (v - 1) * mu1 * (b2 * X1[m - v, 1] + b3 * X1[m - v, 2])\n",
    "    for w in range(0, m - 1):\n",
    "        hat_ym += mu2 ** w * (mu4 + mu3 * exp(tau * (m - w - 2)))\n",
    "    hat_y1.append(hat_ym)\n",
    "print(hat_y1)"
   ],
   "metadata": {
    "collapsed": false,
    "pycharm": {
     "name": "#%%\n"
    }
   }
  },
  {
   "cell_type": "code",
   "execution_count": 9,
   "outputs": [
    {
     "name": "stdout",
     "output_type": "stream",
     "text": [
      "[1.83723328 1.90221882 1.96728575 2.05459146 2.19665877 2.36937121\n",
      " 2.59531049 3.38485909 3.52047555 3.69065028]\n",
      "[1.6098544895668991, 1.541660311597451, 1.5388375612058849, 1.606421395714248, 1.7049686781808602, 1.8537811906771493, 2.5571074763234636, 2.512931295623733, 2.5671720256270567]\n"
     ]
    }
   ],
   "source": [
    "hat_x1 = np.array(hat_y1) ** (1 / (1 - gamma))\n",
    "print(hat_x1)\n",
    "hat_x0 = []\n",
    "for k in range(2, n + 1):\n",
    "    hat_x0_m = 0\n",
    "    for j in range(0, k):\n",
    "        hat_x0_m += (-1) ** j * GAMMA(zeta + 1) / (GAMMA(j + 1) * GAMMA(zeta - j + 1)) * hat_x1[k - j - 1]\n",
    "    hat_x0.append(hat_x0_m)\n",
    "print(hat_x0)"
   ],
   "metadata": {
    "collapsed": false,
    "pycharm": {
     "name": "#%%\n"
    }
   }
  },
  {
   "cell_type": "code",
   "execution_count": 10,
   "outputs": [
    {
     "name": "stdout",
     "output_type": "stream",
     "text": [
      "1    0.012459\n",
      "2    0.022777\n",
      "3    0.035959\n",
      "4    0.046718\n",
      "5    0.027410\n",
      "6    0.041006\n",
      "7    0.015053\n",
      "8    0.003949\n",
      "9    0.000912\n",
      "Name: 主营业务收入（亿元）, dtype: float64\n",
      "0.02291594845182986\n"
     ]
    }
   ],
   "source": [
    "original_x1 = data.iloc[1:, 1]\n",
    "APE = np.abs(hat_x0 - original_x1) / original_x1\n",
    "MAPE=np.mean(APE)\n",
    "\n",
    "print(APE)\n",
    "print(MAPE)"
   ],
   "metadata": {
    "collapsed": false,
    "pycharm": {
     "name": "#%%\n"
    }
   }
  },
  {
   "cell_type": "code",
   "execution_count": 236,
   "outputs": [],
   "source": [
    "pd.DataFrame(hat_x0).to_excel('FNGBM_hatx0_case2.xlsx')\n",
    "pd.DataFrame(APE).to_excel('FNGBM_APE_case2.xlsx')"
   ],
   "metadata": {
    "collapsed": false,
    "pycharm": {
     "name": "#%%\n"
    }
   }
  },
  {
   "cell_type": "code",
   "execution_count": 112,
   "outputs": [
    {
     "data": {
      "text/plain": "4      28465.4700\n5      35984.4000\n6      43206.3000\n7      52799.1000\n8      59688.8000\n9      67584.2000\n10     78309.9325\n11     87304.6806\n12     92969.5665\n13     98634.4524\n14    100098.0000\n15    110085.9746\n16    132988.2635\n17    149087.7480\nName: 主营业务收入（亿元）, dtype: float64"
     },
     "execution_count": 112,
     "metadata": {},
     "output_type": "execute_result"
    }
   ],
   "source": [],
   "metadata": {
    "collapsed": false,
    "pycharm": {
     "name": "#%%\n"
    }
   }
  },
  {
   "cell_type": "code",
   "execution_count": null,
   "outputs": [],
   "source": [],
   "metadata": {
    "collapsed": false,
    "pycharm": {
     "name": "#%%\n"
    }
   }
  }
 ],
 "metadata": {
  "kernelspec": {
   "display_name": "Python 3",
   "language": "python",
   "name": "python3"
  },
  "language_info": {
   "codemirror_mode": {
    "name": "ipython",
    "version": 2
   },
   "file_extension": ".py",
   "mimetype": "text/x-python",
   "name": "python",
   "nbconvert_exporter": "python",
   "pygments_lexer": "ipython2",
   "version": "2.7.6"
  }
 },
 "nbformat": 4,
 "nbformat_minor": 0
}