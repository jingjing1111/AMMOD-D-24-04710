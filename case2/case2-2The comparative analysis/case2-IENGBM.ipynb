{
 "cells": [
  {
   "cell_type": "code",
   "execution_count": 9,
   "outputs": [],
   "source": [
    "from math import exp\n",
    "import pandas as pd\n",
    "import numpy as np"
   ],
   "metadata": {
    "collapsed": false,
    "pycharm": {
     "name": "#%%\n"
    }
   }
  },
  {
   "cell_type": "code",
   "execution_count": 10,
   "outputs": [],
   "source": [
    "gamma =1.27437367"
   ],
   "metadata": {
    "collapsed": false,
    "pycharm": {
     "name": "#%%\n"
    }
   }
  },
  {
   "cell_type": "code",
   "execution_count": 11,
   "outputs": [
    {
     "data": {
      "text/plain": "array([[1.83723328, 2.94888886, 5.30014327],\n       [1.63016472, 3.39839217, 6.47994269],\n       [1.5073275 , 3.29988427, 6.7012894 ],\n       [1.59623741, 3.12537946, 7.23209169],\n       [1.68514732, 2.95087464, 7.76217765],\n       [1.75301896, 2.94091317, 7.18338109],\n       [1.93304706, 3.29124123, 8.74641834],\n       [2.51918555, 3.3593764 , 9.79154728]])"
     },
     "execution_count": 11,
     "metadata": {},
     "output_type": "execute_result"
    }
   ],
   "source": [
    "\n",
    "data = pd.read_excel(\"京津冀3省2014-2023使用版数据-2位小数.xlsx\")\n",
    "data = data.iloc[0:, :]  # 这次去取全部数据i=1？\n",
    "n = data.shape[0]\n",
    "train_n = n - 2\n",
    "X0 = data.iloc[:train_n, 1:].to_numpy()\n",
    "X0"
   ],
   "metadata": {
    "collapsed": false,
    "pycharm": {
     "name": "#%%\n"
    }
   }
  },
  {
   "cell_type": "code",
   "execution_count": 12,
   "outputs": [],
   "source": [
    "# 一阶累加生成\n",
    "X1= np.cumsum(X0, 0)\n",
    "y1 = X1[:, 0] ** (1 - gamma)\n",
    "\n",
    "Zy = (y1[1:] + y1[:-1]) / 2\n",
    "Z2 = (X1[1:, 1] + X1[:-1, 1]) / 2\n",
    "Z3 = (X1[1:, 2] + X1[:-1, 2]) / 2\n",
    "# 根据一阶累加生成的第二三列相乘得到序列 pq， 进而得到 Z23\n",
    "pq = X1[:, 1] * X1[:, 2]\n",
    "Z23 = (pq[1:] + pq[:-1]) / 2"
   ],
   "metadata": {
    "collapsed": false,
    "pycharm": {
     "name": "#%%\n"
    }
   }
  },
  {
   "cell_type": "code",
   "execution_count": 13,
   "outputs": [
    {
     "name": "stdout",
     "output_type": "stream",
     "text": [
      "-3.9621653537793944 0.04665101332087834 0.004012482159738678 -0.000273606936845014 -2.8320471189673806\n"
     ]
    }
   ],
   "source": [
    "B = np.array([-Zy, Z2, Z3, Z23]).T\n",
    "ones_column = np.ones((B.shape[0], 1))\n",
    "B = (1-gamma)*np.hstack((B, ones_column))\n",
    "A = y1[1:] - y1[:-1]\n",
    "    # 共五个值，分别为a, b2, b3, b23, b1\n",
    "\n",
    "hat_a = np.dot(np.dot(np.linalg.inv(np.dot(B.T, B)), B.T), A)\n",
    "a, b2, b3, b23, b1 = hat_a\n",
    "print(a, b2, b3, b23, b1 )"
   ],
   "metadata": {
    "collapsed": false,
    "pycharm": {
     "name": "#%%\n"
    }
   }
  },
  {
   "cell_type": "code",
   "execution_count": 14,
   "outputs": [
    {
     "data": {
      "text/plain": "array([[ 1.83723328,  2.94888886,  5.30014327],\n       [ 1.63016472,  3.39839217,  6.47994269],\n       [ 1.5073275 ,  3.29988427,  6.7012894 ],\n       [ 1.59623741,  3.12537946,  7.23209169],\n       [ 1.68514732,  2.95087464,  7.76217765],\n       [ 1.75301896,  2.94091317,  7.18338109],\n       [ 1.93304706,  3.29124123,  8.74641834],\n       [ 2.51918555,  3.3593764 ,  9.79154728],\n       [ 2.52289439,  4.41132092, 13.32234957],\n       [ 2.56483222,  4.8678233 , 16.10931948]])"
     },
     "execution_count": 14,
     "metadata": {},
     "output_type": "execute_result"
    }
   ],
   "source": [
    "# 这里重新获取下原数据，以实现所有数据的预测\n",
    "X0 = data.iloc[:, 1:].to_numpy()\n",
    "X1= np.cumsum(X0, 0)\n",
    "# 对第一列一阶累加生成求 1-gamma 次幂\n",
    "y1 = X1[:, 0] ** (1 - gamma)\n",
    "X0\n"
   ],
   "metadata": {
    "collapsed": false,
    "pycharm": {
     "name": "#%%\n"
    }
   }
  },
  {
   "cell_type": "code",
   "execution_count": 15,
   "outputs": [
    {
     "name": "stdout",
     "output_type": "stream",
     "text": [
      "[1.62518457 1.54452724 1.54351423 1.64432712 1.80283927 2.07033321\n",
      " 2.35592876 2.6234342  2.54841074]\n"
     ]
    }
   ],
   "source": [
    "  # 根据 y1 求 Zy，再分别根据一阶累加生成的第二三列生成Z2、Z3\n",
    "Zy = (y1[1:] + y1[:-1]) / 2\n",
    "Z2 = (X1[1:, 1] + X1[:-1, 1]) / 2\n",
    "Z3 = (X1[1:, 2] + X1[:-1, 2]) / 2\n",
    "\n",
    "# 根据一阶累加生成的第二三列相乘得到序列 pq， 进而得到 Z23\n",
    "pq = X1[:, 1] * X1[:, 2]\n",
    "Z23 = (pq[1:] + pq[:-1]) / 2\n",
    "\n",
    "hat_y1 = [y1[0]]\n",
    "for i in range(n-1):\n",
    "    hat_y1.append(\n",
    "           (1 - gamma) / (1 + 0.5 * a * (1 - gamma)) * (b2 * Z2[i] + b3 * Z3[i]) +\n",
    "           (1 - 0.5 * a * (1 - gamma)) / (1 + 0.5 * a * (1 - gamma)) * hat_y1[-1] +\n",
    "           (1 - gamma) * b1 / (1 + 0.5 * a * (1 - gamma)) +\n",
    "           (1 - gamma) / (1 + 0.5 * a * (1 - gamma)) * (b23 * Z23[i])\n",
    "    )\n",
    "\n",
    "hat_y1 = np.array(hat_y1)\n",
    "hat_x1 = np.exp(np.log(hat_y1) / (1 - gamma))\n",
    "hat_x0 = np.diff(hat_x1)\n",
    "print(hat_x0)"
   ],
   "metadata": {
    "collapsed": false,
    "pycharm": {
     "name": "#%%\n"
    }
   }
  },
  {
   "cell_type": "code",
   "execution_count": 16,
   "outputs": [
    {
     "name": "stdout",
     "output_type": "stream",
     "text": [
      "1    0.003055\n",
      "2    0.024679\n",
      "3    0.033030\n",
      "4    0.024224\n",
      "5    0.028420\n",
      "6    0.071021\n",
      "7    0.064805\n",
      "8    0.039851\n",
      "9    0.006403\n",
      "Name: 主营业务收入（亿元）, dtype: float64\n",
      "0.03283185419283626\n"
     ]
    }
   ],
   "source": [
    "original_x1 = data.iloc[1:, 1]\n",
    "APE = np.abs(hat_x0 - original_x1) / original_x1\n",
    "MAPE=np.mean(APE)\n",
    "print(APE)\n",
    "print(MAPE)"
   ],
   "metadata": {
    "collapsed": false,
    "pycharm": {
     "name": "#%%\n"
    }
   }
  },
  {
   "cell_type": "code",
   "execution_count": 17,
   "outputs": [],
   "source": [
    "pd.DataFrame(hat_x0).to_excel('IENGBM_hatx0-case2.xlsx')\n",
    "pd.DataFrame(APE).to_excel('IENGBM_APE-case2.xlsx')"
   ],
   "metadata": {
    "collapsed": false,
    "pycharm": {
     "name": "#%%\n"
    }
   }
  },
  {
   "cell_type": "code",
   "execution_count": null,
   "outputs": [],
   "source": [],
   "metadata": {
    "collapsed": false,
    "pycharm": {
     "name": "#%%\n"
    }
   }
  }
 ],
 "metadata": {
  "kernelspec": {
   "display_name": "Python 3",
   "language": "python",
   "name": "python3"
  },
  "language_info": {
   "codemirror_mode": {
    "name": "ipython",
    "version": 2
   },
   "file_extension": ".py",
   "mimetype": "text/x-python",
   "name": "python",
   "nbconvert_exporter": "python",
   "pygments_lexer": "ipython2",
   "version": "2.7.6"
  }
 },
 "nbformat": 4,
 "nbformat_minor": 0
}